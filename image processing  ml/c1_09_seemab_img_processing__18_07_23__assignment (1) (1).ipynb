{
 "cells": [
  {
   "cell_type": "code",
   "execution_count": 1,
   "id": "3ead941d",
   "metadata": {},
   "outputs": [
    {
     "name": "stdout",
     "output_type": "stream",
     "text": [
      "Collecting opencv-python\n",
      "  Downloading opencv_python-4.8.0.74-cp37-abi3-win_amd64.whl (38.1 MB)\n",
      "     -------------------------------------- 38.1/38.1 MB 130.7 kB/s eta 0:00:00\n",
      "Requirement already satisfied: numpy>=1.21.2 in c:\\users\\hp\\anaconda3\\lib\\site-packages (from opencv-python) (1.23.5)\n",
      "Installing collected packages: opencv-python\n",
      "Successfully installed opencv-python-4.8.0.74\n"
     ]
    }
   ],
   "source": [
    "!pip install opencv-python"
   ]
  },
  {
   "cell_type": "code",
   "execution_count": 2,
   "id": "7e42eaa3",
   "metadata": {},
   "outputs": [],
   "source": [
    "import cv2\n",
    "import pandas as pd\n"
   ]
  },
  {
   "cell_type": "markdown",
   "id": "9c78cc01",
   "metadata": {},
   "source": [
    "\n",
    "# Task 1\n"
   ]
  },
  {
   "cell_type": "code",
   "execution_count": 3,
   "id": "ea2fd572",
   "metadata": {},
   "outputs": [],
   "source": [
    "#  Insert 8 to 10 image of your self in system they are single or group images doesn't matter"
   ]
  },
  {
   "cell_type": "code",
   "execution_count": 4,
   "id": "1142a080",
   "metadata": {},
   "outputs": [],
   "source": [
    "img=cv2.imread('1.jpg',-1)\n",
    "img2=cv2.imread('f.jpeg',-1)\n",
    "img3=cv2.imread('img3.jpg')\n",
    "img4=cv2.imread('img4.jpg')\n",
    "img5=cv2.imread('img5.jpg')\n",
    "img6=cv2.imread('img6.jpg')\n",
    "imag7=cv2.imread('imag7.jpg')\n",
    "img8=cv2.imread('img8.jpg')"
   ]
  },
  {
   "cell_type": "code",
   "execution_count": 5,
   "id": "5575fc2a",
   "metadata": {},
   "outputs": [
    {
     "data": {
      "text/plain": [
       "array([[[152,  89,   1],\n",
       "        [152,  89,   1],\n",
       "        [152,  89,   1],\n",
       "        ...,\n",
       "        [159,  98,   0],\n",
       "        [159,  98,   0],\n",
       "        [159,  98,   0]],\n",
       "\n",
       "       [[152,  89,   1],\n",
       "        [152,  89,   1],\n",
       "        [152,  89,   1],\n",
       "        ...,\n",
       "        [159,  98,   0],\n",
       "        [159,  98,   0],\n",
       "        [159,  98,   0]],\n",
       "\n",
       "       [[152,  89,   1],\n",
       "        [152,  89,   1],\n",
       "        [152,  89,   1],\n",
       "        ...,\n",
       "        [159,  98,   0],\n",
       "        [159,  98,   0],\n",
       "        [159,  98,   0]],\n",
       "\n",
       "       ...,\n",
       "\n",
       "       [[186, 117,   0],\n",
       "        [186, 117,   0],\n",
       "        [186, 117,   0],\n",
       "        ...,\n",
       "        [188, 125,   5],\n",
       "        [192, 125,   3],\n",
       "        [192, 125,   3]],\n",
       "\n",
       "       [[186, 117,   0],\n",
       "        [186, 117,   0],\n",
       "        [186, 117,   0],\n",
       "        ...,\n",
       "        [188, 125,   5],\n",
       "        [192, 125,   3],\n",
       "        [192, 125,   3]],\n",
       "\n",
       "       [[186, 117,   0],\n",
       "        [186, 117,   0],\n",
       "        [186, 117,   0],\n",
       "        ...,\n",
       "        [188, 125,   5],\n",
       "        [192, 125,   3],\n",
       "        [192, 125,   3]]], dtype=uint8)"
      ]
     },
     "execution_count": 5,
     "metadata": {},
     "output_type": "execute_result"
    }
   ],
   "source": [
    "# circle on first image face\n",
    "\n",
    "center_x, center_y, radius = 120, 100, 80\n",
    "cv2.circle(img, (center_x, center_y), radius, (0, 0, 255), 0)"
   ]
  },
  {
   "cell_type": "code",
   "execution_count": 6,
   "id": "ec435f88",
   "metadata": {},
   "outputs": [],
   "source": [
    "#printing first image with face circled\n",
    "\n",
    "cv2.imshow('image', img)\n",
    "cv2.waitKey()\n",
    "cv2.destroyAllWindows()\n"
   ]
  },
  {
   "cell_type": "code",
   "execution_count": 7,
   "id": "6cdc35df",
   "metadata": {},
   "outputs": [
    {
     "data": {
      "text/plain": [
       "array([[[ 63,  85,  80],\n",
       "        [ 78, 100,  95],\n",
       "        [ 74,  93,  90],\n",
       "        ...,\n",
       "        [113, 132, 129],\n",
       "        [ 51,  67,  66],\n",
       "        [ 35,  48,  50]],\n",
       "\n",
       "       [[ 92, 112, 107],\n",
       "        [ 82, 102,  97],\n",
       "        [ 78,  97,  94],\n",
       "        ...,\n",
       "        [162, 181, 178],\n",
       "        [ 92, 108, 107],\n",
       "        [ 44,  57,  59]],\n",
       "\n",
       "       [[ 87, 104, 100],\n",
       "        [ 96, 113, 109],\n",
       "        [ 94, 111, 108],\n",
       "        ...,\n",
       "        [148, 165, 162],\n",
       "        [131, 145, 144],\n",
       "        [ 78,  90,  92]],\n",
       "\n",
       "       ...,\n",
       "\n",
       "       [[118, 109,  82],\n",
       "        [124, 117,  90],\n",
       "        [107, 103,  78],\n",
       "        ...,\n",
       "        [166, 195, 192],\n",
       "        [181, 211, 206],\n",
       "        [161, 191, 186]],\n",
       "\n",
       "       [[115, 103,  75],\n",
       "        [119, 108,  80],\n",
       "        [104,  97,  70],\n",
       "        ...,\n",
       "        [192, 216, 214],\n",
       "        [205, 228, 224],\n",
       "        [178, 201, 197]],\n",
       "\n",
       "       [[108,  94,  65],\n",
       "        [106,  94,  66],\n",
       "        [101,  92,  65],\n",
       "        ...,\n",
       "        [187, 208, 206],\n",
       "        [198, 215, 212],\n",
       "        [162, 179, 176]]], dtype=uint8)"
      ]
     },
     "execution_count": 7,
     "metadata": {},
     "output_type": "execute_result"
    }
   ],
   "source": [
    "# circle on 2nd image face\n",
    "\n",
    "center_x, center_y, radius = 870,270, 120\n",
    "cv2.circle(img2, (center_x, center_y), radius, (0, 0, 255), 0)"
   ]
  },
  {
   "cell_type": "code",
   "execution_count": 11,
   "id": "804628cf",
   "metadata": {},
   "outputs": [],
   "source": [
    "#print image 2 with circle\n",
    "\n",
    "cv2.imshow('image', img2)\n",
    "cv2.waitKey()\n",
    "cv2.destroyAllWindows()\n"
   ]
  },
  {
   "cell_type": "code",
   "execution_count": 12,
   "id": "d992f29b",
   "metadata": {},
   "outputs": [
    {
     "data": {
      "text/plain": [
       "array([[[169, 171, 165],\n",
       "        [170, 172, 166],\n",
       "        [176, 172, 171],\n",
       "        ...,\n",
       "        [182, 187, 186],\n",
       "        [181, 186, 185],\n",
       "        [178, 183, 182]],\n",
       "\n",
       "       [[172, 174, 168],\n",
       "        [172, 174, 168],\n",
       "        [177, 173, 172],\n",
       "        ...,\n",
       "        [181, 186, 185],\n",
       "        [179, 184, 183],\n",
       "        [176, 181, 180]],\n",
       "\n",
       "       [[174, 176, 170],\n",
       "        [174, 176, 170],\n",
       "        [178, 174, 173],\n",
       "        ...,\n",
       "        [180, 185, 184],\n",
       "        [177, 182, 181],\n",
       "        [174, 179, 178]],\n",
       "\n",
       "       ...,\n",
       "\n",
       "       [[ 15,  17,  11],\n",
       "        [ 15,  17,  11],\n",
       "        [ 15,  17,  11],\n",
       "        ...,\n",
       "        [ 14,  22,  12],\n",
       "        [ 15,  23,  13],\n",
       "        [ 15,  23,  13]],\n",
       "\n",
       "       [[ 16,  18,  12],\n",
       "        [ 15,  17,  11],\n",
       "        [ 15,  17,  11],\n",
       "        ...,\n",
       "        [ 14,  22,  12],\n",
       "        [ 14,  22,  12],\n",
       "        [ 15,  23,  13]],\n",
       "\n",
       "       [[ 16,  18,  12],\n",
       "        [ 15,  17,  11],\n",
       "        [ 15,  17,  11],\n",
       "        ...,\n",
       "        [ 14,  22,  12],\n",
       "        [ 14,  22,  12],\n",
       "        [ 14,  22,  12]]], dtype=uint8)"
      ]
     },
     "execution_count": 12,
     "metadata": {},
     "output_type": "execute_result"
    }
   ],
   "source": [
    "# circle on 3rd image face\n",
    "\n",
    "center_x, center_y, radius = 550,500, 450\n",
    "cv2.circle(img3, (center_x, center_y), radius, (0, 0, 255), 0)"
   ]
  },
  {
   "cell_type": "code",
   "execution_count": 13,
   "id": "1ddd3126",
   "metadata": {},
   "outputs": [],
   "source": [
    "cv2.imshow('image', img3)\n",
    "cv2.waitKey()\n",
    "cv2.destroyAllWindows()\n"
   ]
  },
  {
   "cell_type": "code",
   "execution_count": 14,
   "id": "335ac5e8",
   "metadata": {},
   "outputs": [
    {
     "data": {
      "text/plain": [
       "array([[[161, 171, 178],\n",
       "        [161, 171, 178],\n",
       "        [167, 172, 181],\n",
       "        ...,\n",
       "        [180, 180, 180],\n",
       "        [183, 182, 184],\n",
       "        [186, 185, 187]],\n",
       "\n",
       "       [[163, 173, 180],\n",
       "        [163, 173, 180],\n",
       "        [168, 173, 182],\n",
       "        ...,\n",
       "        [181, 181, 181],\n",
       "        [183, 182, 184],\n",
       "        [184, 183, 185]],\n",
       "\n",
       "       [[165, 175, 182],\n",
       "        [165, 175, 182],\n",
       "        [170, 175, 184],\n",
       "        ...,\n",
       "        [183, 183, 183],\n",
       "        [183, 182, 184],\n",
       "        [182, 181, 183]],\n",
       "\n",
       "       ...,\n",
       "\n",
       "       [[ 15,  17,  11],\n",
       "        [ 15,  17,  11],\n",
       "        [ 16,  17,  13],\n",
       "        ...,\n",
       "        [ 13,  21,  11],\n",
       "        [ 14,  21,  14],\n",
       "        [ 15,  23,  13]],\n",
       "\n",
       "       [[ 15,  17,  11],\n",
       "        [ 15,  17,  11],\n",
       "        [ 15,  16,  12],\n",
       "        ...,\n",
       "        [ 12,  19,  12],\n",
       "        [ 12,  18,  13],\n",
       "        [ 13,  20,  13]],\n",
       "\n",
       "       [[ 14,  16,  10],\n",
       "        [ 14,  16,  10],\n",
       "        [ 14,  15,  11],\n",
       "        ...,\n",
       "        [ 10,  16,  11],\n",
       "        [ 11,  17,  12],\n",
       "        [ 11,  17,  12]]], dtype=uint8)"
      ]
     },
     "execution_count": 14,
     "metadata": {},
     "output_type": "execute_result"
    }
   ],
   "source": [
    "# circle on 4th image face\n",
    "\n",
    "center_x, center_y, radius = 550,500, 450\n",
    "cv2.circle(img4, (center_x, center_y), radius, (0, 0, 255), 0)"
   ]
  },
  {
   "cell_type": "code",
   "execution_count": 15,
   "id": "dae59c4b",
   "metadata": {},
   "outputs": [],
   "source": [
    "cv2.imshow('image', img4)\n",
    "cv2.waitKey()\n",
    "cv2.destroyAllWindows()\n"
   ]
  },
  {
   "cell_type": "code",
   "execution_count": 16,
   "id": "e68233c0",
   "metadata": {},
   "outputs": [
    {
     "data": {
      "text/plain": [
       "array([[[165, 176, 174],\n",
       "        [166, 177, 175],\n",
       "        [169, 174, 177],\n",
       "        ...,\n",
       "        [177, 183, 182],\n",
       "        [175, 180, 181],\n",
       "        [173, 178, 179]],\n",
       "\n",
       "       [[161, 172, 170],\n",
       "        [163, 174, 172],\n",
       "        [167, 172, 175],\n",
       "        ...,\n",
       "        [177, 183, 182],\n",
       "        [174, 179, 180],\n",
       "        [171, 176, 177]],\n",
       "\n",
       "       [[159, 170, 168],\n",
       "        [160, 171, 169],\n",
       "        [164, 169, 172],\n",
       "        ...,\n",
       "        [177, 183, 182],\n",
       "        [173, 178, 179],\n",
       "        [169, 174, 175]],\n",
       "\n",
       "       ...,\n",
       "\n",
       "       [[ 34,  42, 109],\n",
       "        [ 35,  43, 110],\n",
       "        [ 35,  41, 112],\n",
       "        ...,\n",
       "        [ 21,  25,  13],\n",
       "        [ 21,  25,  13],\n",
       "        [ 21,  25,  13]],\n",
       "\n",
       "       [[ 37,  51, 117],\n",
       "        [ 36,  50, 116],\n",
       "        [ 35,  47, 117],\n",
       "        ...,\n",
       "        [ 20,  24,  13],\n",
       "        [ 19,  23,  12],\n",
       "        [ 19,  23,  12]],\n",
       "\n",
       "       [[ 41,  59, 124],\n",
       "        [ 38,  56, 121],\n",
       "        [ 37,  52, 121],\n",
       "        ...,\n",
       "        [ 19,  23,  12],\n",
       "        [ 17,  21,  10],\n",
       "        [ 17,  21,  10]]], dtype=uint8)"
      ]
     },
     "execution_count": 16,
     "metadata": {},
     "output_type": "execute_result"
    }
   ],
   "source": [
    "# circle on 5th image face\n",
    "\n",
    "center_x, center_y, radius = 550,500, 450\n",
    "cv2.circle(img5, (center_x, center_y), radius, (0, 0, 255), 0)"
   ]
  },
  {
   "cell_type": "code",
   "execution_count": 17,
   "id": "e4fb3081",
   "metadata": {},
   "outputs": [],
   "source": [
    "cv2.imshow('image', img5)\n",
    "cv2.waitKey()\n",
    "cv2.destroyAllWindows()\n"
   ]
  },
  {
   "cell_type": "code",
   "execution_count": 18,
   "id": "56256f4a",
   "metadata": {},
   "outputs": [
    {
     "data": {
      "text/plain": [
       "array([[[180, 172, 172],\n",
       "        [181, 173, 173],\n",
       "        [183, 172, 175],\n",
       "        ...,\n",
       "        [175, 181, 176],\n",
       "        [172, 178, 173],\n",
       "        [172, 178, 173]],\n",
       "\n",
       "       [[180, 172, 172],\n",
       "        [182, 174, 174],\n",
       "        [184, 173, 176],\n",
       "        ...,\n",
       "        [174, 180, 175],\n",
       "        [171, 177, 172],\n",
       "        [171, 177, 172]],\n",
       "\n",
       "       [[181, 173, 173],\n",
       "        [182, 174, 174],\n",
       "        [185, 174, 177],\n",
       "        ...,\n",
       "        [171, 177, 172],\n",
       "        [169, 175, 170],\n",
       "        [169, 175, 170]],\n",
       "\n",
       "       ...,\n",
       "\n",
       "       [[ 15,  16,  12],\n",
       "        [ 15,  16,  12],\n",
       "        [ 15,  16,  12],\n",
       "        ...,\n",
       "        [ 76,  95,  80],\n",
       "        [ 77,  96,  81],\n",
       "        [ 76,  95,  80]],\n",
       "\n",
       "       [[ 15,  16,  12],\n",
       "        [ 15,  16,  12],\n",
       "        [ 14,  15,  11],\n",
       "        ...,\n",
       "        [ 70,  91,  76],\n",
       "        [ 66,  87,  72],\n",
       "        [ 60,  81,  66]],\n",
       "\n",
       "       [[ 15,  16,  12],\n",
       "        [ 15,  16,  12],\n",
       "        [ 14,  15,  11],\n",
       "        ...,\n",
       "        [ 65,  86,  71],\n",
       "        [ 57,  78,  63],\n",
       "        [ 46,  67,  52]]], dtype=uint8)"
      ]
     },
     "execution_count": 18,
     "metadata": {},
     "output_type": "execute_result"
    }
   ],
   "source": [
    "# circle on 6th image face\n",
    "\n",
    "center_x, center_y, radius = 550,500, 450\n",
    "cv2.circle(img6, (center_x, center_y), radius, (0, 0, 255), 0)"
   ]
  },
  {
   "cell_type": "code",
   "execution_count": 19,
   "id": "cc1b5409",
   "metadata": {},
   "outputs": [],
   "source": [
    "cv2.imshow('image', img6)\n",
    "cv2.waitKey()\n",
    "cv2.destroyAllWindows()\n"
   ]
  },
  {
   "cell_type": "code",
   "execution_count": 20,
   "id": "de6b77fc",
   "metadata": {},
   "outputs": [
    {
     "data": {
      "text/plain": [
       "array([[[100, 100, 100],\n",
       "        [100, 100, 100],\n",
       "        [102, 102, 102],\n",
       "        ...,\n",
       "        [107, 107, 107],\n",
       "        [107, 107, 107],\n",
       "        [108, 108, 108]],\n",
       "\n",
       "       [[ 99,  99,  99],\n",
       "        [100, 100, 100],\n",
       "        [102, 102, 102],\n",
       "        ...,\n",
       "        [107, 107, 107],\n",
       "        [107, 107, 107],\n",
       "        [107, 107, 107]],\n",
       "\n",
       "       [[ 99,  99,  99],\n",
       "        [100, 100, 100],\n",
       "        [103, 103, 103],\n",
       "        ...,\n",
       "        [107, 107, 107],\n",
       "        [107, 107, 107],\n",
       "        [106, 106, 106]],\n",
       "\n",
       "       ...,\n",
       "\n",
       "       [[ 33,  35,  36],\n",
       "        [ 36,  38,  39],\n",
       "        [ 37,  39,  40],\n",
       "        ...,\n",
       "        [  7,   7,   7],\n",
       "        [  6,   6,   6],\n",
       "        [  6,   6,   6]],\n",
       "\n",
       "       [[ 40,  42,  43],\n",
       "        [ 42,  44,  45],\n",
       "        [ 40,  42,  43],\n",
       "        ...,\n",
       "        [  7,   7,   7],\n",
       "        [  7,   7,   7],\n",
       "        [  7,   7,   7]],\n",
       "\n",
       "       [[ 47,  49,  50],\n",
       "        [ 46,  48,  49],\n",
       "        [ 42,  44,  45],\n",
       "        ...,\n",
       "        [  6,   6,   6],\n",
       "        [  6,   6,   6],\n",
       "        [  6,   6,   6]]], dtype=uint8)"
      ]
     },
     "execution_count": 20,
     "metadata": {},
     "output_type": "execute_result"
    }
   ],
   "source": [
    "# circle on 7th image face\n",
    "\n",
    "center_x, center_y, radius = 250,370, 200\n",
    "cv2.circle(imag7, (center_x, center_y), radius, (0, 0, 255), 0)"
   ]
  },
  {
   "cell_type": "code",
   "execution_count": 21,
   "id": "7b2f925c",
   "metadata": {},
   "outputs": [],
   "source": [
    "cv2.imshow('image', imag7)\n",
    "cv2.waitKey()\n",
    "cv2.destroyAllWindows()\n"
   ]
  },
  {
   "cell_type": "code",
   "execution_count": 22,
   "id": "85dec47a",
   "metadata": {},
   "outputs": [
    {
     "data": {
      "text/plain": [
       "array([[[ 47,  75,   6],\n",
       "        [ 47,  75,   6],\n",
       "        [ 56,  77,  14],\n",
       "        ...,\n",
       "        [ 28,  36,  29],\n",
       "        [ 25,  32,  25],\n",
       "        [ 20,  27,  20]],\n",
       "\n",
       "       [[ 42,  71,   2],\n",
       "        [ 42,  70,   1],\n",
       "        [ 52,  76,  11],\n",
       "        ...,\n",
       "        [ 25,  33,  26],\n",
       "        [ 25,  32,  25],\n",
       "        [ 24,  31,  24]],\n",
       "\n",
       "       [[ 44,  76,   5],\n",
       "        [ 44,  76,   5],\n",
       "        [ 56,  84,  18],\n",
       "        ...,\n",
       "        [ 26,  32,  27],\n",
       "        [ 29,  33,  28],\n",
       "        [ 26,  30,  25]],\n",
       "\n",
       "       ...,\n",
       "\n",
       "       [[ 96, 114,  91],\n",
       "        [ 96, 113,  92],\n",
       "        [ 97, 113,  95],\n",
       "        ...,\n",
       "        [ 57,  35,  53],\n",
       "        [ 53,  33,  45],\n",
       "        [ 51,  33,  40]],\n",
       "\n",
       "       [[ 94, 112,  89],\n",
       "        [ 94, 112,  89],\n",
       "        [ 97, 114,  93],\n",
       "        ...,\n",
       "        [ 54,  34,  47],\n",
       "        [ 53,  34,  43],\n",
       "        [ 55,  37,  44]],\n",
       "\n",
       "       [[ 96, 114,  91],\n",
       "        [ 94, 112,  89],\n",
       "        [ 98, 115,  94],\n",
       "        ...,\n",
       "        [ 54,  32,  44],\n",
       "        [ 56,  35,  44],\n",
       "        [ 59,  38,  47]]], dtype=uint8)"
      ]
     },
     "execution_count": 22,
     "metadata": {},
     "output_type": "execute_result"
    }
   ],
   "source": [
    "# circle on 7th image face\n",
    "\n",
    "center_x, center_y, radius = 450,370, 200\n",
    "cv2.circle(img8, (center_x, center_y), radius, (0, 0, 255), 0)"
   ]
  },
  {
   "cell_type": "code",
   "execution_count": 23,
   "id": "f47922f1",
   "metadata": {},
   "outputs": [],
   "source": [
    "cv2.imshow('image', img8)\n",
    "cv2.waitKey()\n",
    "cv2.destroyAllWindows()"
   ]
  },
  {
   "cell_type": "markdown",
   "id": "799c93b3",
   "metadata": {},
   "source": [
    "# taske 2"
   ]
  },
  {
   "cell_type": "code",
   "execution_count": 24,
   "id": "b775d76e",
   "metadata": {},
   "outputs": [
    {
     "data": {
      "text/plain": [
       "array([[[152,  89,   1],\n",
       "        [152,  89,   1],\n",
       "        [152,  89,   1],\n",
       "        ...,\n",
       "        [159,  98,   0],\n",
       "        [159,  98,   0],\n",
       "        [159,  98,   0]],\n",
       "\n",
       "       [[152,  89,   1],\n",
       "        [152,  89,   1],\n",
       "        [152,  89,   1],\n",
       "        ...,\n",
       "        [159,  98,   0],\n",
       "        [159,  98,   0],\n",
       "        [159,  98,   0]],\n",
       "\n",
       "       [[152,  89,   1],\n",
       "        [152,  89,   1],\n",
       "        [152,  89,   1],\n",
       "        ...,\n",
       "        [159,  98,   0],\n",
       "        [159,  98,   0],\n",
       "        [159,  98,   0]],\n",
       "\n",
       "       ...,\n",
       "\n",
       "       [[186, 117,   0],\n",
       "        [186, 117,   0],\n",
       "        [186, 117,   0],\n",
       "        ...,\n",
       "        [188, 125,   5],\n",
       "        [192, 125,   3],\n",
       "        [192, 125,   3]],\n",
       "\n",
       "       [[186, 117,   0],\n",
       "        [186, 117,   0],\n",
       "        [186, 117,   0],\n",
       "        ...,\n",
       "        [188, 125,   5],\n",
       "        [192, 125,   3],\n",
       "        [192, 125,   3]],\n",
       "\n",
       "       [[186, 117,   0],\n",
       "        [186, 117,   0],\n",
       "        [186, 117,   0],\n",
       "        ...,\n",
       "        [188, 125,   5],\n",
       "        [192, 125,   3],\n",
       "        [192, 125,   3]]], dtype=uint8)"
      ]
     },
     "execution_count": 24,
     "metadata": {},
     "output_type": "execute_result"
    }
   ],
   "source": [
    "img=cv2.imread('1.jpg', -1)\n",
    "img"
   ]
  },
  {
   "cell_type": "code",
   "execution_count": 25,
   "id": "a4cdc546",
   "metadata": {},
   "outputs": [
    {
     "data": {
      "text/plain": [
       "array([[[152,  89,   1],\n",
       "        [152,  89,   1],\n",
       "        [152,  89,   1],\n",
       "        ...,\n",
       "        [159,  98,   0],\n",
       "        [159,  98,   0],\n",
       "        [159,  98,   0]],\n",
       "\n",
       "       [[152,  89,   1],\n",
       "        [152,  89,   1],\n",
       "        [152,  89,   1],\n",
       "        ...,\n",
       "        [159,  98,   0],\n",
       "        [159,  98,   0],\n",
       "        [159,  98,   0]],\n",
       "\n",
       "       [[152,  89,   1],\n",
       "        [152,  89,   1],\n",
       "        [152,  89,   1],\n",
       "        ...,\n",
       "        [159,  98,   0],\n",
       "        [159,  98,   0],\n",
       "        [159,  98,   0]],\n",
       "\n",
       "       ...,\n",
       "\n",
       "       [[186, 117,   0],\n",
       "        [186, 117,   0],\n",
       "        [186, 117,   0],\n",
       "        ...,\n",
       "        [188, 125,   5],\n",
       "        [192, 125,   3],\n",
       "        [192, 125,   3]],\n",
       "\n",
       "       [[186, 117,   0],\n",
       "        [186, 117,   0],\n",
       "        [186, 117,   0],\n",
       "        ...,\n",
       "        [188, 125,   5],\n",
       "        [192, 125,   3],\n",
       "        [192, 125,   3]],\n",
       "\n",
       "       [[186, 117,   0],\n",
       "        [186, 117,   0],\n",
       "        [186, 117,   0],\n",
       "        ...,\n",
       "        [188, 125,   5],\n",
       "        [192, 125,   3],\n",
       "        [192, 125,   3]]], dtype=uint8)"
      ]
     },
     "execution_count": 25,
     "metadata": {},
     "output_type": "execute_result"
    }
   ],
   "source": [
    "head_x, head_y, head_width, head_height = 10, 10, 270, 400\n",
    "\n",
    "\n",
    "cv2.rectangle(img, (head_x, head_y), (head_x + head_width, head_y + head_height), (255, 0, 0), 2)\n"
   ]
  },
  {
   "cell_type": "code",
   "execution_count": 26,
   "id": "8b7f3498",
   "metadata": {},
   "outputs": [],
   "source": [
    "cv2.imshow('image', img)\n",
    "cv2.waitKey()\n",
    "cv2.destroyAllWindows()\n"
   ]
  },
  {
   "cell_type": "markdown",
   "id": "a9867b9e",
   "metadata": {},
   "source": [
    "## task 3"
   ]
  },
  {
   "cell_type": "code",
   "execution_count": 27,
   "id": "a5691dba",
   "metadata": {},
   "outputs": [],
   "source": [
    "img1 = cv2.imread('1.jpg')\n",
    "img2 = cv2.imread('f.jpeg')\n",
    "\n",
    "\n",
    "img2 = cv2.resize(img2, (img1.shape[1], img1.shape[0]))\n",
    "\n",
    "\n",
    "merged_image = cv2.add(img1, img2)\n",
    "\n",
    "# Display the merged image\n",
    "cv2.imshow('Merged Image', merged_image)\n",
    "cv2.waitKey(0)\n",
    "cv2.destroyAllWindows()"
   ]
  },
  {
   "cell_type": "markdown",
   "id": "773887ec",
   "metadata": {},
   "source": [
    "# task_4"
   ]
  },
  {
   "cell_type": "code",
   "execution_count": 35,
   "id": "55ee7b7e",
   "metadata": {},
   "outputs": [
    {
     "data": {
      "text/plain": [
       "array([[[152,  89,   1],\n",
       "        [152,  89,   1],\n",
       "        [152,  89,   1],\n",
       "        ...,\n",
       "        [159,  98,   0],\n",
       "        [159,  98,   0],\n",
       "        [159,  98,   0]],\n",
       "\n",
       "       [[152,  89,   1],\n",
       "        [152,  89,   1],\n",
       "        [152,  89,   1],\n",
       "        ...,\n",
       "        [159,  98,   0],\n",
       "        [159,  98,   0],\n",
       "        [159,  98,   0]],\n",
       "\n",
       "       [[152,  89,   1],\n",
       "        [152,  89,   1],\n",
       "        [152,  89,   1],\n",
       "        ...,\n",
       "        [159,  98,   0],\n",
       "        [159,  98,   0],\n",
       "        [159,  98,   0]],\n",
       "\n",
       "       ...,\n",
       "\n",
       "       [[186, 117,   0],\n",
       "        [186, 117,   0],\n",
       "        [186, 117,   0],\n",
       "        ...,\n",
       "        [188, 125,   5],\n",
       "        [192, 125,   3],\n",
       "        [192, 125,   3]],\n",
       "\n",
       "       [[186, 117,   0],\n",
       "        [186, 117,   0],\n",
       "        [186, 117,   0],\n",
       "        ...,\n",
       "        [188, 125,   5],\n",
       "        [192, 125,   3],\n",
       "        [192, 125,   3]],\n",
       "\n",
       "       [[186, 117,   0],\n",
       "        [186, 117,   0],\n",
       "        [186, 117,   0],\n",
       "        ...,\n",
       "        [188, 125,   5],\n",
       "        [192, 125,   3],\n",
       "        [192, 125,   3]]], dtype=uint8)"
      ]
     },
     "execution_count": 35,
     "metadata": {},
     "output_type": "execute_result"
    }
   ],
   "source": [
    "img"
   ]
  },
  {
   "cell_type": "code",
   "execution_count": null,
   "id": "c823070c",
   "metadata": {},
   "outputs": [],
   "source": []
  },
  {
   "cell_type": "code",
   "execution_count": null,
   "id": "8564b894",
   "metadata": {},
   "outputs": [],
   "source": []
  },
  {
   "cell_type": "code",
   "execution_count": 58,
   "id": "a09f10d4",
   "metadata": {},
   "outputs": [
    {
     "ename": "ValueError",
     "evalue": "Must pass 2-d input. shape=(400, 288, 3)",
     "output_type": "error",
     "traceback": [
      "\u001b[1;31m---------------------------------------------------------------------------\u001b[0m",
      "\u001b[1;31mValueError\u001b[0m                                Traceback (most recent call last)",
      "Cell \u001b[1;32mIn[58], line 2\u001b[0m\n\u001b[0;32m      1\u001b[0m data \u001b[38;5;241m=\u001b[39m cv2\u001b[38;5;241m.\u001b[39mimread(\u001b[38;5;124m'\u001b[39m\u001b[38;5;124m1.jpg\u001b[39m\u001b[38;5;124m'\u001b[39m)\n\u001b[1;32m----> 2\u001b[0m df\u001b[38;5;241m=\u001b[39m\u001b[43mpd\u001b[49m\u001b[38;5;241;43m.\u001b[39;49m\u001b[43mDataFrame\u001b[49m\u001b[43m(\u001b[49m\u001b[43mdata\u001b[49m\u001b[43m)\u001b[49m\n",
      "File \u001b[1;32m~\\anaconda3\\lib\\site-packages\\pandas\\core\\frame.py:722\u001b[0m, in \u001b[0;36mDataFrame.__init__\u001b[1;34m(self, data, index, columns, dtype, copy)\u001b[0m\n\u001b[0;32m    712\u001b[0m         mgr \u001b[38;5;241m=\u001b[39m dict_to_mgr(\n\u001b[0;32m    713\u001b[0m             \u001b[38;5;66;03m# error: Item \"ndarray\" of \"Union[ndarray, Series, Index]\" has no\u001b[39;00m\n\u001b[0;32m    714\u001b[0m             \u001b[38;5;66;03m# attribute \"name\"\u001b[39;00m\n\u001b[1;32m   (...)\u001b[0m\n\u001b[0;32m    719\u001b[0m             typ\u001b[38;5;241m=\u001b[39mmanager,\n\u001b[0;32m    720\u001b[0m         )\n\u001b[0;32m    721\u001b[0m     \u001b[38;5;28;01melse\u001b[39;00m:\n\u001b[1;32m--> 722\u001b[0m         mgr \u001b[38;5;241m=\u001b[39m \u001b[43mndarray_to_mgr\u001b[49m\u001b[43m(\u001b[49m\n\u001b[0;32m    723\u001b[0m \u001b[43m            \u001b[49m\u001b[43mdata\u001b[49m\u001b[43m,\u001b[49m\n\u001b[0;32m    724\u001b[0m \u001b[43m            \u001b[49m\u001b[43mindex\u001b[49m\u001b[43m,\u001b[49m\n\u001b[0;32m    725\u001b[0m \u001b[43m            \u001b[49m\u001b[43mcolumns\u001b[49m\u001b[43m,\u001b[49m\n\u001b[0;32m    726\u001b[0m \u001b[43m            \u001b[49m\u001b[43mdtype\u001b[49m\u001b[38;5;241;43m=\u001b[39;49m\u001b[43mdtype\u001b[49m\u001b[43m,\u001b[49m\n\u001b[0;32m    727\u001b[0m \u001b[43m            \u001b[49m\u001b[43mcopy\u001b[49m\u001b[38;5;241;43m=\u001b[39;49m\u001b[43mcopy\u001b[49m\u001b[43m,\u001b[49m\n\u001b[0;32m    728\u001b[0m \u001b[43m            \u001b[49m\u001b[43mtyp\u001b[49m\u001b[38;5;241;43m=\u001b[39;49m\u001b[43mmanager\u001b[49m\u001b[43m,\u001b[49m\n\u001b[0;32m    729\u001b[0m \u001b[43m        \u001b[49m\u001b[43m)\u001b[49m\n\u001b[0;32m    731\u001b[0m \u001b[38;5;66;03m# For data is list-like, or Iterable (will consume into list)\u001b[39;00m\n\u001b[0;32m    732\u001b[0m \u001b[38;5;28;01melif\u001b[39;00m is_list_like(data):\n",
      "File \u001b[1;32m~\\anaconda3\\lib\\site-packages\\pandas\\core\\internals\\construction.py:329\u001b[0m, in \u001b[0;36mndarray_to_mgr\u001b[1;34m(values, index, columns, dtype, copy, typ)\u001b[0m\n\u001b[0;32m    324\u001b[0m         values \u001b[38;5;241m=\u001b[39m values\u001b[38;5;241m.\u001b[39mreshape(\u001b[38;5;241m-\u001b[39m\u001b[38;5;241m1\u001b[39m, \u001b[38;5;241m1\u001b[39m)\n\u001b[0;32m    326\u001b[0m \u001b[38;5;28;01melse\u001b[39;00m:\n\u001b[0;32m    327\u001b[0m     \u001b[38;5;66;03m# by definition an array here\u001b[39;00m\n\u001b[0;32m    328\u001b[0m     \u001b[38;5;66;03m# the dtypes will be coerced to a single dtype\u001b[39;00m\n\u001b[1;32m--> 329\u001b[0m     values \u001b[38;5;241m=\u001b[39m \u001b[43m_prep_ndarraylike\u001b[49m\u001b[43m(\u001b[49m\u001b[43mvalues\u001b[49m\u001b[43m,\u001b[49m\u001b[43m \u001b[49m\u001b[43mcopy\u001b[49m\u001b[38;5;241;43m=\u001b[39;49m\u001b[43mcopy_on_sanitize\u001b[49m\u001b[43m)\u001b[49m\n\u001b[0;32m    331\u001b[0m \u001b[38;5;28;01mif\u001b[39;00m dtype \u001b[38;5;129;01mis\u001b[39;00m \u001b[38;5;129;01mnot\u001b[39;00m \u001b[38;5;28;01mNone\u001b[39;00m \u001b[38;5;129;01mand\u001b[39;00m \u001b[38;5;129;01mnot\u001b[39;00m is_dtype_equal(values\u001b[38;5;241m.\u001b[39mdtype, dtype):\n\u001b[0;32m    332\u001b[0m     \u001b[38;5;66;03m# GH#40110 see similar check inside sanitize_array\u001b[39;00m\n\u001b[0;32m    333\u001b[0m     rcf \u001b[38;5;241m=\u001b[39m \u001b[38;5;129;01mnot\u001b[39;00m (is_integer_dtype(dtype) \u001b[38;5;129;01mand\u001b[39;00m values\u001b[38;5;241m.\u001b[39mdtype\u001b[38;5;241m.\u001b[39mkind \u001b[38;5;241m==\u001b[39m \u001b[38;5;124m\"\u001b[39m\u001b[38;5;124mf\u001b[39m\u001b[38;5;124m\"\u001b[39m)\n",
      "File \u001b[1;32m~\\anaconda3\\lib\\site-packages\\pandas\\core\\internals\\construction.py:583\u001b[0m, in \u001b[0;36m_prep_ndarraylike\u001b[1;34m(values, copy)\u001b[0m\n\u001b[0;32m    581\u001b[0m     values \u001b[38;5;241m=\u001b[39m values\u001b[38;5;241m.\u001b[39mreshape((values\u001b[38;5;241m.\u001b[39mshape[\u001b[38;5;241m0\u001b[39m], \u001b[38;5;241m1\u001b[39m))\n\u001b[0;32m    582\u001b[0m \u001b[38;5;28;01melif\u001b[39;00m values\u001b[38;5;241m.\u001b[39mndim \u001b[38;5;241m!=\u001b[39m \u001b[38;5;241m2\u001b[39m:\n\u001b[1;32m--> 583\u001b[0m     \u001b[38;5;28;01mraise\u001b[39;00m \u001b[38;5;167;01mValueError\u001b[39;00m(\u001b[38;5;124mf\u001b[39m\u001b[38;5;124m\"\u001b[39m\u001b[38;5;124mMust pass 2-d input. shape=\u001b[39m\u001b[38;5;132;01m{\u001b[39;00mvalues\u001b[38;5;241m.\u001b[39mshape\u001b[38;5;132;01m}\u001b[39;00m\u001b[38;5;124m\"\u001b[39m)\n\u001b[0;32m    585\u001b[0m \u001b[38;5;28;01mreturn\u001b[39;00m values\n",
      "\u001b[1;31mValueError\u001b[0m: Must pass 2-d input. shape=(400, 288, 3)"
     ]
    }
   ],
   "source": [
    "data = cv2.imread('1.jpg')\n",
    "df=pd.DataFrame(data)"
   ]
  },
  {
   "cell_type": "code",
   "execution_count": 57,
   "id": "aba6a04e",
   "metadata": {},
   "outputs": [
    {
     "ename": "ValueError",
     "evalue": "Must pass 2-d input. shape=(400, 288, 3)",
     "output_type": "error",
     "traceback": [
      "\u001b[1;31m---------------------------------------------------------------------------\u001b[0m",
      "\u001b[1;31mValueError\u001b[0m                                Traceback (most recent call last)",
      "Cell \u001b[1;32mIn[57], line 1\u001b[0m\n\u001b[1;32m----> 1\u001b[0m df\u001b[38;5;241m=\u001b[39m\u001b[43mpd\u001b[49m\u001b[38;5;241;43m.\u001b[39;49m\u001b[43mDataFrame\u001b[49m\u001b[43m(\u001b[49m\u001b[43mdata\u001b[49m\u001b[43m)\u001b[49m\n",
      "File \u001b[1;32m~\\anaconda3\\lib\\site-packages\\pandas\\core\\frame.py:722\u001b[0m, in \u001b[0;36mDataFrame.__init__\u001b[1;34m(self, data, index, columns, dtype, copy)\u001b[0m\n\u001b[0;32m    712\u001b[0m         mgr \u001b[38;5;241m=\u001b[39m dict_to_mgr(\n\u001b[0;32m    713\u001b[0m             \u001b[38;5;66;03m# error: Item \"ndarray\" of \"Union[ndarray, Series, Index]\" has no\u001b[39;00m\n\u001b[0;32m    714\u001b[0m             \u001b[38;5;66;03m# attribute \"name\"\u001b[39;00m\n\u001b[1;32m   (...)\u001b[0m\n\u001b[0;32m    719\u001b[0m             typ\u001b[38;5;241m=\u001b[39mmanager,\n\u001b[0;32m    720\u001b[0m         )\n\u001b[0;32m    721\u001b[0m     \u001b[38;5;28;01melse\u001b[39;00m:\n\u001b[1;32m--> 722\u001b[0m         mgr \u001b[38;5;241m=\u001b[39m \u001b[43mndarray_to_mgr\u001b[49m\u001b[43m(\u001b[49m\n\u001b[0;32m    723\u001b[0m \u001b[43m            \u001b[49m\u001b[43mdata\u001b[49m\u001b[43m,\u001b[49m\n\u001b[0;32m    724\u001b[0m \u001b[43m            \u001b[49m\u001b[43mindex\u001b[49m\u001b[43m,\u001b[49m\n\u001b[0;32m    725\u001b[0m \u001b[43m            \u001b[49m\u001b[43mcolumns\u001b[49m\u001b[43m,\u001b[49m\n\u001b[0;32m    726\u001b[0m \u001b[43m            \u001b[49m\u001b[43mdtype\u001b[49m\u001b[38;5;241;43m=\u001b[39;49m\u001b[43mdtype\u001b[49m\u001b[43m,\u001b[49m\n\u001b[0;32m    727\u001b[0m \u001b[43m            \u001b[49m\u001b[43mcopy\u001b[49m\u001b[38;5;241;43m=\u001b[39;49m\u001b[43mcopy\u001b[49m\u001b[43m,\u001b[49m\n\u001b[0;32m    728\u001b[0m \u001b[43m            \u001b[49m\u001b[43mtyp\u001b[49m\u001b[38;5;241;43m=\u001b[39;49m\u001b[43mmanager\u001b[49m\u001b[43m,\u001b[49m\n\u001b[0;32m    729\u001b[0m \u001b[43m        \u001b[49m\u001b[43m)\u001b[49m\n\u001b[0;32m    731\u001b[0m \u001b[38;5;66;03m# For data is list-like, or Iterable (will consume into list)\u001b[39;00m\n\u001b[0;32m    732\u001b[0m \u001b[38;5;28;01melif\u001b[39;00m is_list_like(data):\n",
      "File \u001b[1;32m~\\anaconda3\\lib\\site-packages\\pandas\\core\\internals\\construction.py:329\u001b[0m, in \u001b[0;36mndarray_to_mgr\u001b[1;34m(values, index, columns, dtype, copy, typ)\u001b[0m\n\u001b[0;32m    324\u001b[0m         values \u001b[38;5;241m=\u001b[39m values\u001b[38;5;241m.\u001b[39mreshape(\u001b[38;5;241m-\u001b[39m\u001b[38;5;241m1\u001b[39m, \u001b[38;5;241m1\u001b[39m)\n\u001b[0;32m    326\u001b[0m \u001b[38;5;28;01melse\u001b[39;00m:\n\u001b[0;32m    327\u001b[0m     \u001b[38;5;66;03m# by definition an array here\u001b[39;00m\n\u001b[0;32m    328\u001b[0m     \u001b[38;5;66;03m# the dtypes will be coerced to a single dtype\u001b[39;00m\n\u001b[1;32m--> 329\u001b[0m     values \u001b[38;5;241m=\u001b[39m \u001b[43m_prep_ndarraylike\u001b[49m\u001b[43m(\u001b[49m\u001b[43mvalues\u001b[49m\u001b[43m,\u001b[49m\u001b[43m \u001b[49m\u001b[43mcopy\u001b[49m\u001b[38;5;241;43m=\u001b[39;49m\u001b[43mcopy_on_sanitize\u001b[49m\u001b[43m)\u001b[49m\n\u001b[0;32m    331\u001b[0m \u001b[38;5;28;01mif\u001b[39;00m dtype \u001b[38;5;129;01mis\u001b[39;00m \u001b[38;5;129;01mnot\u001b[39;00m \u001b[38;5;28;01mNone\u001b[39;00m \u001b[38;5;129;01mand\u001b[39;00m \u001b[38;5;129;01mnot\u001b[39;00m is_dtype_equal(values\u001b[38;5;241m.\u001b[39mdtype, dtype):\n\u001b[0;32m    332\u001b[0m     \u001b[38;5;66;03m# GH#40110 see similar check inside sanitize_array\u001b[39;00m\n\u001b[0;32m    333\u001b[0m     rcf \u001b[38;5;241m=\u001b[39m \u001b[38;5;129;01mnot\u001b[39;00m (is_integer_dtype(dtype) \u001b[38;5;129;01mand\u001b[39;00m values\u001b[38;5;241m.\u001b[39mdtype\u001b[38;5;241m.\u001b[39mkind \u001b[38;5;241m==\u001b[39m \u001b[38;5;124m\"\u001b[39m\u001b[38;5;124mf\u001b[39m\u001b[38;5;124m\"\u001b[39m)\n",
      "File \u001b[1;32m~\\anaconda3\\lib\\site-packages\\pandas\\core\\internals\\construction.py:583\u001b[0m, in \u001b[0;36m_prep_ndarraylike\u001b[1;34m(values, copy)\u001b[0m\n\u001b[0;32m    581\u001b[0m     values \u001b[38;5;241m=\u001b[39m values\u001b[38;5;241m.\u001b[39mreshape((values\u001b[38;5;241m.\u001b[39mshape[\u001b[38;5;241m0\u001b[39m], \u001b[38;5;241m1\u001b[39m))\n\u001b[0;32m    582\u001b[0m \u001b[38;5;28;01melif\u001b[39;00m values\u001b[38;5;241m.\u001b[39mndim \u001b[38;5;241m!=\u001b[39m \u001b[38;5;241m2\u001b[39m:\n\u001b[1;32m--> 583\u001b[0m     \u001b[38;5;28;01mraise\u001b[39;00m \u001b[38;5;167;01mValueError\u001b[39;00m(\u001b[38;5;124mf\u001b[39m\u001b[38;5;124m\"\u001b[39m\u001b[38;5;124mMust pass 2-d input. shape=\u001b[39m\u001b[38;5;132;01m{\u001b[39;00mvalues\u001b[38;5;241m.\u001b[39mshape\u001b[38;5;132;01m}\u001b[39;00m\u001b[38;5;124m\"\u001b[39m)\n\u001b[0;32m    585\u001b[0m \u001b[38;5;28;01mreturn\u001b[39;00m values\n",
      "\u001b[1;31mValueError\u001b[0m: Must pass 2-d input. shape=(400, 288, 3)"
     ]
    }
   ],
   "source": []
  },
  {
   "cell_type": "code",
   "execution_count": null,
   "id": "7f21b51d",
   "metadata": {},
   "outputs": [],
   "source": []
  }
 ],
 "metadata": {
  "kernelspec": {
   "display_name": "Python 3 (ipykernel)",
   "language": "python",
   "name": "python3"
  },
  "language_info": {
   "codemirror_mode": {
    "name": "ipython",
    "version": 3
   },
   "file_extension": ".py",
   "mimetype": "text/x-python",
   "name": "python",
   "nbconvert_exporter": "python",
   "pygments_lexer": "ipython3",
   "version": "3.10.9"
  }
 },
 "nbformat": 4,
 "nbformat_minor": 5
}
