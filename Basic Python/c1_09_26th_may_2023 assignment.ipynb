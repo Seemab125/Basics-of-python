{
 "cells": [
  {
   "cell_type": "code",
   "execution_count": 7,
   "id": "efb84162",
   "metadata": {},
   "outputs": [
    {
     "name": "stdout",
     "output_type": "stream",
     "text": [
      "['reading', 'outing', 'walking', 'exercise', 'playing', 'eating', 'biking', 'sleeping', 'music', 'movie']\n"
     ]
    }
   ],
   "source": [
    "#  Task 1:\n",
    "#   Create a List which contain your hobbies. Your list must have 10 hobbies.\n",
    "\n",
    "\n",
    "x=[\"reading\", \"outing\", \"walking\", \"exercise\", \"playing\", \"eating\", \"biking\", \"sleeping\", \"music\", 'movie']\n",
    "print(x)"
   ]
  },
  {
   "cell_type": "code",
   "execution_count": 5,
   "id": "2a05235a",
   "metadata": {},
   "outputs": [],
   "source": [
    "#  Task 2 :\n",
    "#  Create a list which contain your Matriculation marks, Intermediate marks.\n",
    "\n",
    "a=[\"matriculation : 835\" ,\"intermediate : 877\"]\n"
   ]
  },
  {
   "cell_type": "code",
   "execution_count": 12,
   "id": "9ccaca9a",
   "metadata": {},
   "outputs": [
    {
     "name": "stdout",
     "output_type": "stream",
     "text": [
      "my 5th hobby is :  playing\n"
     ]
    }
   ],
   "source": [
    "#   Task 3:\n",
    "#   Display the element which is on 5th index of list of hobbies\n",
    "\n",
    "print(\"my 5th hobby is : \",x[4])\n"
   ]
  },
  {
   "cell_type": "code",
   "execution_count": 17,
   "id": "48593bfe",
   "metadata": {},
   "outputs": [
    {
     "name": "stdout",
     "output_type": "stream",
     "text": [
      "Intermediate marks are on index number :  1\n",
      "highest marks are  877\n",
      "lowest marks are  835\n"
     ]
    }
   ],
   "source": [
    "#     Task4:\n",
    "#     Display the Intermediate marks through index.\n",
    "#     Display lowest marks of your educational career.\n",
    "\n",
    "b=a.index('intermediate : 877')\n",
    "print(\"Intermediate marks are on index number : \" ,b)\n",
    "interm=877\n",
    "matr=835\n",
    "print(\"highest marks are \",interm)\n",
    "print(\"lowest marks are \", matr)\n"
   ]
  },
  {
   "cell_type": "code",
   "execution_count": null,
   "id": "d685cf2f",
   "metadata": {},
   "outputs": [],
   "source": [
    "\n"
   ]
  },
  {
   "cell_type": "code",
   "execution_count": 3,
   "id": "3967f988",
   "metadata": {},
   "outputs": [
    {
     "name": "stdout",
     "output_type": "stream",
     "text": [
      "EVEN numbers: [2, 4, 6, 8, 0]\n",
      "ODD numbers: [1, 3, 5, 7, 9]\n",
      "PRIME numbers: [2, 3, 5, 7]\n"
     ]
    }
   ],
   "source": [
    "#  Task 5:\n",
    "#  This the List=[1,2,3,4,5,6,7,8,9,0] your code should split this in to even, odd,\n",
    "#  prime numbers.\n",
    "\n",
    "\n",
    "list = [1, 2, 3, 4, 5, 6, 7, 8, 9, 0]\n",
    "E = []\n",
    "O = []\n",
    "P = []\n",
    "\n",
    "for num in list:\n",
    "    if num % 2 == 0:\n",
    "        E.append(num)\n",
    "    elif num % 2 != 0:\n",
    "        O.append(num)\n",
    "\n",
    "    if num > 1:\n",
    "        for i in range(2, num):\n",
    "            if num % i == 0:\n",
    "                break\n",
    "        else:\n",
    "            P.append(num)\n",
    "\n",
    "print(\"EVEN numbers:\", E)\n",
    "print(\"ODD numbers:\", O)\n",
    "print(\"PRIME numbers:\", P)"
   ]
  },
  {
   "cell_type": "code",
   "execution_count": 56,
   "id": "133fbb21",
   "metadata": {},
   "outputs": [
    {
     "name": "stdout",
     "output_type": "stream",
     "text": [
      "{1: 'Mudassir ', 2: 'seemab', 3: 'Ali'}\n"
     ]
    }
   ],
   "source": [
    "#  Task 6:\n",
    "#  Make a dictionary which contain you sibling name with their order.\n",
    "\n",
    "sibilings={\n",
    "   1:\"Mudassir \",\n",
    "    2:\"seemab\",\n",
    "    3:\"Ali\"\n",
    "}\n",
    "print(sibilings)"
   ]
  },
  {
   "cell_type": "code",
   "execution_count": 9,
   "id": "bd838e4e",
   "metadata": {},
   "outputs": [
    {
     "name": "stdout",
     "output_type": "stream",
     "text": [
      "Wickets taken by Jamal: 3\n",
      "Wickets taken by hamza: 3\n",
      "Score given by Jamal: 35\n",
      "Score given by Hamza: 35\n",
      "Overall total wickets taken in the match: 6\n",
      "Overall occurrences of 'WD' in the match: 2\n",
      "Overall occurrences of 'NO' in the match: 2\n",
      "Overall total score of the match: 70\n",
      "Score in the 2nd over by Jamal: 12\n",
      "Score in the 2nd over by Hamza: 12\n"
     ]
    }
   ],
   "source": [
    "#         Task 7: {\n",
    "#         Suppose that you have this record in this shape:\n",
    "#        scoreboard = {\n",
    "#      \"jamal\": {\n",
    "#      1: {0, \"WD\", \"No\", \"free hit+6\", \"catch\", 4, \"bowled\", 6, 0},\n",
    "#       2: {4,4,4,\"wicket\",\"wicket\",\"wicket\"},\n",
    "#      3: {0,0,0,0,1,0},\n",
    "#         4:{\"out\",\"NO+FREEHIT\",0,0,6,6,\"catch\"}\n",
    "#         },\n",
    "#       \"hamza\": {\n",
    "#        1: {0, \"WD\", \"No\", \"free hit+6\", 0, 4, \"bowled\", 6, 0},\n",
    "#          2: {4,4,4,\"wicket\",\"wicket\",\"wicket\"},\n",
    "#       3: {0,0,0,0,1,0},\n",
    "#       4:{\"out\",\"NO+FREEHIT\",0,\"catch\",6,6,\"out\"}\n",
    "#         }}\n",
    "\n",
    "\n",
    "#\n",
    "\n",
    "#          Overall total wickets taken in match\n",
    "#         Overall “WD” “NO” and total score of the match\n",
    "\n",
    "#        How much score given by Hamza\n",
    "#      How much score give in 2nd over of hamza and Jamal.\n",
    "\n",
    "\n",
    "#             Print that how many wickets taken by Jamal\n",
    "scoreboard = {\n",
    "    \"jamal\": {\n",
    "        1: [0, \"WD\", \"No\", \"free hit+6\", \"catch\", 4, \"bowled\", 6, 0],\n",
    "        2: [4, 4, 4, \"wicket\", \"wicket\", \"wicket\"],\n",
    "        3: [0, 0, 0, 0, 1, 0],\n",
    "        4: [\"out\", \"NO+FREEHIT\", 0, 0, 6, 6, \"catch\"]\n",
    "    },\n",
    "    \"hamza\": {\n",
    "        1: [0, \"WD\", \"No\", \"free hit+6\", 0, 4, \"bowled\", 6, 0],\n",
    "        2: [4, 4, 4, \"wicket\", \"wicket\", \"wicket\"],\n",
    "        3: [0, 0, 0, 0, 1, 0],\n",
    "        4: [\"out\", \"NO+FREEHIT\", 0, \"catch\", 6, 6, \"out\"]\n",
    "    }\n",
    "}\n",
    "\n",
    "jamal_wickets = 0\n",
    "\n",
    "for inning in scoreboard[\"jamal\"].values():\n",
    "    if \"wicket\" in inning:\n",
    "        jamal_wickets += inning.count(\"wicket\")\n",
    "\n",
    "print(\"Wickets taken by Jamal:\", jamal_wickets)\n",
    "\n",
    "#             Print that how many wickets taken by hamza\n",
    "\n",
    "hamza_wickets = 0\n",
    "\n",
    "for inning in scoreboard[\"hamza\"].values():\n",
    "    if \"wicket\" in inning:\n",
    "        hamza_wickets += inning.count(\"wicket\")\n",
    "\n",
    "print(\"Wickets taken by hamza:\", hamza_wickets)\n",
    "\n",
    "\n",
    "#         How much score given by Jamal\n",
    "\n",
    "jamal_score = 0\n",
    "\n",
    "for inning in scoreboard[\"jamal\"].values():\n",
    "    for item in inning:\n",
    "        if isinstance(item, int):\n",
    "            jamal_score += item\n",
    "\n",
    "print(\"Score given by Jamal:\", jamal_score)\n",
    "\n",
    "\n",
    "total_wickets = 0\n",
    "\n",
    "for player in scoreboard.values():\n",
    "    for inning in player.values():\n",
    "        total_wickets += inning.count(\"wicket\")\n",
    "        \n",
    "hamza_score = 0\n",
    "\n",
    "for inning in scoreboard[\"hamza\"].values():\n",
    "    for item in inning:\n",
    "        if isinstance(item, int):\n",
    "            hamza_score += item\n",
    "\n",
    "print(\"Score given by Hamza:\", hamza_score)\n",
    "\n",
    "print(\"Overall total wickets taken in the match:\", total_wickets)\n",
    "\n",
    "#         Overall “WD” “NO” and total score of the match\n",
    "total_wd = 0\n",
    "total_no = 0\n",
    "total_score = 0\n",
    "\n",
    "for player in scoreboard.values():\n",
    "    for inning in player.values():\n",
    "        total_wd += inning.count(\"WD\")\n",
    "        total_no += inning.count(\"No\")\n",
    "        for item in inning:\n",
    "            if isinstance(item, int):\n",
    "                total_score += item\n",
    "\n",
    "print(\"Overall occurrences of 'WD' in the match:\", total_wd)\n",
    "print(\"Overall occurrences of 'NO' in the match:\", total_no)\n",
    "print(\"Overall total score of the match:\", total_score)\n",
    "\n",
    "\n",
    "\n",
    "jamal_2nd_over_score = sum([score for score in scoreboard[\"jamal\"][2] if isinstance(score, int)])\n",
    "hamza_2nd_over_score = sum([score for score in scoreboard[\"hamza\"][2] if isinstance(score, int)])\n",
    "\n",
    "print(\"Score in the 2nd over by Jamal:\", jamal_2nd_over_score)\n",
    "print(\"Score in the 2nd over by Hamza:\", hamza_2nd_over_score)"
   ]
  },
  {
   "cell_type": "code",
   "execution_count": null,
   "id": "70adc04f",
   "metadata": {},
   "outputs": [],
   "source": []
  },
  {
   "cell_type": "code",
   "execution_count": null,
   "id": "621fbd53",
   "metadata": {},
   "outputs": [],
   "source": [
    "\n"
   ]
  }
 ],
 "metadata": {
  "kernelspec": {
   "display_name": "Python 3 (ipykernel)",
   "language": "python",
   "name": "python3"
  },
  "language_info": {
   "codemirror_mode": {
    "name": "ipython",
    "version": 3
   },
   "file_extension": ".py",
   "mimetype": "text/x-python",
   "name": "python",
   "nbconvert_exporter": "python",
   "pygments_lexer": "ipython3",
   "version": "3.10.9"
  }
 },
 "nbformat": 4,
 "nbformat_minor": 5
}
