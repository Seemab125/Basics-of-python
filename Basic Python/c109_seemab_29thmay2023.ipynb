{
 "cells": [
  {
   "cell_type": "code",
   "execution_count": 21,
   "id": "9db00b4c",
   "metadata": {},
   "outputs": [
    {
     "name": "stdout",
     "output_type": "stream",
     "text": [
      "0\n",
      "1\n",
      "3\n",
      "4\n",
      "5\n",
      "6\n",
      "7\n",
      "9\n",
      "10\n"
     ]
    }
   ],
   "source": [
    "#  Task 1: Write a Python program that prints all the numbers from 0 to 10 except 2 and 8\n",
    "\n",
    "for i in range (0, 11):\n",
    "    if i!=2 and i!=8:\n",
    "        print(i)"
   ]
  },
  {
   "cell_type": "code",
   "execution_count": 22,
   "id": "63538264",
   "metadata": {},
   "outputs": [
    {
     "name": "stdout",
     "output_type": "stream",
     "text": [
      "7 * 1 = 7\n",
      "7 * 2 = 14\n",
      "7 * 3 = 21\n",
      "7 * 4 = 28\n",
      "7 * 5 = 35\n",
      "7 * 6 = 42\n",
      "7 * 7 = 49\n",
      "7 * 8 = 56\n",
      "7 * 9 = 63\n",
      "7 * 10 = 70\n"
     ]
    }
   ],
   "source": [
    "#   Task 2: Print table of 7 using for loop in this format\n",
    "   #    7 * 1= 7\n",
    "   #   7 * 2= 14\n",
    "   #   ...\n",
    "   #   ...\n",
    "   #   7 * 10= 70\n",
    "    \n",
    "num=7\n",
    "for i in range(1,11):\n",
    "    print(num, \"*\", i, \"=\", num*i)"
   ]
  },
  {
   "cell_type": "code",
   "execution_count": 23,
   "id": "335a6715",
   "metadata": {},
   "outputs": [
    {
     "name": "stdout",
     "output_type": "stream",
     "text": [
      "*\n",
      "**\n",
      "***\n",
      "****\n",
      "*****\n",
      "****\n",
      "***\n",
      "**\n",
      "*\n"
     ]
    }
   ],
   "source": [
    "#   Task 3: Write a program to print this:\n",
    "#     *\n",
    "#    * *\n",
    "#    * * *\n",
    "#    ** **\n",
    "#    ** * * *\n",
    "#    * ** *\n",
    "#    * * *\n",
    "#    * *\n",
    "#    *\n",
    "\n",
    "print(\"*\")\n",
    "print(\"**\")\n",
    "print(\"***\")\n",
    "print(\"****\")\n",
    "print(\"*****\")\n",
    "print(\"****\")\n",
    "print(\"***\")\n",
    "print(\"**\")\n",
    "print(\"*\")"
   ]
  },
  {
   "cell_type": "code",
   "execution_count": 33,
   "id": "a0431a6c",
   "metadata": {},
   "outputs": [
    {
     "name": "stdout",
     "output_type": "stream",
     "text": [
      "enter10  numbers  :2\n",
      "enter10  numbers  :2\n",
      "enter10  numbers  :3\n",
      "enter10  numbers  :4\n",
      "enter10  numbers  :5\n",
      "enter10  numbers  :6\n",
      "enter10  numbers  :44\n",
      "enter10  numbers  :3\n",
      "enter10  numbers  :2\n",
      "enter10  numbers  :2\n",
      "44\n"
     ]
    }
   ],
   "source": [
    "# Task 4: Take ten number from user in a loop and find the largest number\n",
    "\n",
    "L=[]\n",
    "for x in range (1,11):\n",
    "    x=int(input(\"enter10  numbers  :\"))\n",
    "    L.append(x)\n",
    "\n",
    "    \n",
    "large=L[0]\n",
    "    \n",
    "for x in L:\n",
    "    if x > large:\n",
    "        large=x\n",
    "print(large)\n",
    "    \n",
    "\n",
    "        \n"
   ]
  },
  {
   "cell_type": "markdown",
   "id": "021d91a2",
   "metadata": {},
   "source": [
    "###### 4\n",
    "#### "
   ]
  },
  {
   "cell_type": "code",
   "execution_count": 43,
   "id": "9053e07d",
   "metadata": {},
   "outputs": [
    {
     "name": "stdout",
     "output_type": "stream",
     "text": [
      "enter 10  numbers  :1\n",
      "enter 10  numbers  :2\n",
      "enter 10  numbers  :3\n",
      "enter 10  numbers  :4\n",
      "enter 10  numbers  :5\n",
      "enter 10  numbers  :6\n",
      "enter 10  numbers  :7\n",
      "enter 10  numbers  :8\n",
      "enter 10  numbers  :9\n",
      "45\n"
     ]
    }
   ],
   "source": [
    "# Task 5: Write a program to add ten numbers enter by user in a loop. (For loop)\n",
    "\n",
    "\n",
    "S=0\n",
    "for x in range (1,10):\n",
    "    x=int(input(\"enter 10  numbers  :\"))\n",
    "\n",
    "    S+= x\n",
    "print(S)\n",
    "    \n",
    "\n",
    "    \n"
   ]
  },
  {
   "cell_type": "markdown",
   "id": "b23f0e0f",
   "metadata": {},
   "source": []
  }
 ],
 "metadata": {
  "kernelspec": {
   "display_name": "Python 3 (ipykernel)",
   "language": "python",
   "name": "python3"
  },
  "language_info": {
   "codemirror_mode": {
    "name": "ipython",
    "version": 3
   },
   "file_extension": ".py",
   "mimetype": "text/x-python",
   "name": "python",
   "nbconvert_exporter": "python",
   "pygments_lexer": "ipython3",
   "version": "3.10.9"
  }
 },
 "nbformat": 4,
 "nbformat_minor": 5
}
