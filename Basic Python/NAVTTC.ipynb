{
 "cells": [
  {
   "cell_type": "code",
   "execution_count": 1,
   "id": "4edb8e54",
   "metadata": {},
   "outputs": [],
   "source": [
    "A=[1,2,3,4,5,6,7,8,9]\n",
    "E=[]\n",
    "O=[]\n",
    "\n",
    "for num in A:\n",
    "    if num%2==0:\n",
    "        E.append(num)\n",
    "    else:\n",
    "        O.append(num)\n",
    "        \n",
    "    "
   ]
  },
  {
   "cell_type": "code",
   "execution_count": 10,
   "id": "8fb5a228",
   "metadata": {},
   "outputs": [
    {
     "name": "stdout",
     "output_type": "stream",
     "text": [
      "EVEN numbers :  [2, 4, 6, 8, 0]\n",
      "ODD numbers :  [1, 3, 5, 7, 9]\n",
      "PRIME numbers :  [2, 3, 5, 7]\n"
     ]
    }
   ],
   "source": [
    "\n",
    "#  Task 5:\n",
    "#  This the List=[1,2,3,4,5,6,7,8,9,0] your code should split this in to even, odd,\n",
    "#  prime numbers.\n",
    "\n",
    "list=[1,2,3,4,5,6,7,8,9,0]\n",
    "E=[]\n",
    "O=[]\n",
    "p=[]\n",
    "\n",
    "for num in list:\n",
    "    if num%2==0:\n",
    "        E.append(num)\n",
    "    else:\n",
    "        O.append(num)\n",
    "    if num%4!=0 and num%6!=0 and num%9!=0 and num!=1:\n",
    "        p.append(num)\n",
    "        \n",
    "print(\"EVEN numbers : \", E)\n",
    "print(\"ODD numbers : \", O)\n",
    "print(\"PRIME numbers : \", p)\n",
    "\n",
    "\n",
    "\n",
    "\n"
   ]
  },
  {
   "cell_type": "code",
   "execution_count": null,
   "id": "2124c46e",
   "metadata": {},
   "outputs": [],
   "source": []
  },
  {
   "cell_type": "code",
   "execution_count": null,
   "id": "1d855af9",
   "metadata": {},
   "outputs": [],
   "source": []
  }
 ],
 "metadata": {
  "kernelspec": {
   "display_name": "Python 3 (ipykernel)",
   "language": "python",
   "name": "python3"
  },
  "language_info": {
   "codemirror_mode": {
    "name": "ipython",
    "version": 3
   },
   "file_extension": ".py",
   "mimetype": "text/x-python",
   "name": "python",
   "nbconvert_exporter": "python",
   "pygments_lexer": "ipython3",
   "version": "3.10.9"
  }
 },
 "nbformat": 4,
 "nbformat_minor": 5
}
