{
 "cells": [
  {
   "cell_type": "code",
   "execution_count": 1,
   "id": "b9ef1102",
   "metadata": {},
   "outputs": [
    {
     "name": "stdout",
     "output_type": "stream",
     "text": [
      "Enter the first number: 1\n",
      "Enter the second number: 2\n",
      "The maximum between 1.0 and 2.0 is 2.0\n"
     ]
    }
   ],
   "source": [
    "#      Task 1: Write a program to find maximum between two numbers.\n",
    "\n",
    "\n",
    "num1 = float(input(\"Enter the first number: \"))\n",
    "num2 = float(input(\"Enter the second number: \"))\n",
    "\n",
    "maximum = max(num1, num2)\n",
    "\n",
    "print(\"The maximum between\", num1, \"and\", num2, \"is\", maximum)"
   ]
  },
  {
   "cell_type": "code",
   "execution_count": 2,
   "id": "a1e3fe4b",
   "metadata": {},
   "outputs": [
    {
     "name": "stdout",
     "output_type": "stream",
     "text": [
      "Enter the first number: 1\n",
      "Enter the second number: 2\n",
      "Enter the third number: 3\n",
      "The maximum between 1.0 and 2.0 and 3.0 is 3.0\n"
     ]
    }
   ],
   "source": [
    "#     Task 2: Write a program to find maximum between three numbers.\n",
    "\n",
    "\n",
    "num1 = float(input(\"Enter the first number: \"))\n",
    "num2 = float(input(\"Enter the second number: \"))\n",
    "num3 = float(input(\"Enter the third number: \"))\n",
    "maximum = max(num1, num2, num3)\n",
    "\n",
    "print(\"The maximum between\", num1, \"and\", num2,\"and\" ,num3, \"is\", maximum)\n",
    "\n"
   ]
  },
  {
   "cell_type": "code",
   "execution_count": 3,
   "id": "ceb9bdda",
   "metadata": {},
   "outputs": [
    {
     "name": "stdout",
     "output_type": "stream",
     "text": [
      "Enter a number: 1\n",
      "1.0 is positive\n"
     ]
    }
   ],
   "source": [
    "#     Task 3: Write a program to check whether a number is negative, positive or zero.\n",
    "\n",
    "num = float(input(\"Enter a number: \"))\n",
    "\n",
    "if num > 0:\n",
    "    print(num, \"is positive\")\n",
    "elif num < 0:\n",
    "    print(num, \"is negative\")\n",
    "else:\n",
    "    print(\"The number is zero\")\n",
    "\n",
    "\n"
   ]
  },
  {
   "cell_type": "code",
   "execution_count": 15,
   "id": "13b543a9",
   "metadata": {},
   "outputs": [
    {
     "name": "stdout",
     "output_type": "stream",
     "text": [
      "Enter a number: 22\n",
      "22.0 is divisible by 11\n"
     ]
    }
   ],
   "source": [
    "#     Task 4: Write a program to check whether a number is divisible by 5 and 11 or not.\n",
    "\n",
    "\n",
    "num = float(input(\"Enter a number: \"))\n",
    "\n",
    "if num % 5 == 0 and num % 11 == 0:\n",
    "    print(num, \"is divisible by both 5 and 11\")\n",
    "\n",
    "elif num % 5== 0:\n",
    "    print(num, \"is divisible by 5\")\n",
    "elif num % 11== 0:\n",
    "    print(num, \"is divisible by 11\")\n",
    "else:\n",
    "    print(\"The number is not divisible\")\n"
   ]
  },
  {
   "cell_type": "code",
   "execution_count": 16,
   "id": "03265069",
   "metadata": {},
   "outputs": [
    {
     "name": "stdout",
     "output_type": "stream",
     "text": [
      "Enter number to check10\n",
      "number is even \n"
     ]
    }
   ],
   "source": [
    "#      Task 5: Write a program to check whether a number is even or odd.\n",
    "\n",
    "\n",
    "num = float(input(\"Enter number to check\"))\n",
    "if num % 2 == 0:\n",
    "    print(\"number is even \")\n",
    "else:\n",
    "    print(\"number is odd\")\n"
   ]
  },
  {
   "cell_type": "code",
   "execution_count": 24,
   "id": "8e3e2fae",
   "metadata": {},
   "outputs": [
    {
     "name": "stdout",
     "output_type": "stream",
     "text": [
      "Enter any alphabet: f\n",
      "consonent\n"
     ]
    }
   ],
   "source": [
    "#         Task 6: Write a program to input any alphabet and check whether it is vowel or not.\n",
    "\n",
    "\n",
    "alp=str(input(\"Enter any alphabet: \"))\n",
    "V=['a','e','i','o','u']\n",
    "if alp in V:\n",
    "    print(\"vowel\")\n",
    "else:\n",
    "    print(\"consonent\")"
   ]
  },
  {
   "cell_type": "code",
   "execution_count": 25,
   "id": "14210254",
   "metadata": {},
   "outputs": [
    {
     "name": "stdout",
     "output_type": "stream",
     "text": [
      "Enter the day number of the month (1-31): 5\n",
      "The week number for day 5 is 1\n"
     ]
    }
   ],
   "source": [
    "#      Task 7: Write a program to input day number of a month (31 days) and print the number of week (1,2,3,4).\n",
    "\n",
    "\n",
    "day_number = int(input(\"Enter the day number of the month (1-31): \"))\n",
    "\n",
    "if day_number < 1 or day_number > 31:\n",
    "    print(\"Invalid day number!\")\n",
    "else:\n",
    "    week_number = (day_number + 6) // 7\n",
    "    print(\"The week number for day\", day_number, \"is\", week_number)\n",
    "\n"
   ]
  },
  {
   "cell_type": "code",
   "execution_count": 26,
   "id": "ab2dea77",
   "metadata": {},
   "outputs": [
    {
     "name": "stdout",
     "output_type": "stream",
     "text": [
      "Enter the month number (1-12): 2\n",
      "The number of days in month 2 is 28 or 29\n"
     ]
    }
   ],
   "source": [
    "#  Task 8: Write a program to input month number and print number of days in that month.\n",
    "\n",
    "month_number = int(input(\"Enter the month number (1-12): \"))\n",
    "\n",
    "if month_number < 1 or month_number > 12:\n",
    "    print(\"Invalid month number!\")\n",
    "else:\n",
    "    if month_number == 2:\n",
    "        print(\"The number of days in month\", month_number, \"is 28 or 29\")\n",
    "    elif month_number in [4, 6, 9, 11]:\n",
    "        print(\"The number of days in month\", month_number, \"is 30\")\n",
    "    else:\n",
    "        print(\"The number of days in month\", month_number, \"is 31\")"
   ]
  },
  {
   "cell_type": "code",
   "execution_count": 27,
   "id": "e3a8b7ae",
   "metadata": {},
   "outputs": [
    {
     "name": "stdout",
     "output_type": "stream",
     "text": [
      "Enter the number of the day (1-7): 2\n",
      "The name of the day is Tuesday\n"
     ]
    }
   ],
   "source": [
    " \n",
    "# Task 9:       Write a program to give the name of the day when given the number of day in a week.\n",
    "#                e.g., User enters 1, answer comes \"Monday\" and son on to 7.\n",
    "\n",
    "\n",
    "day_number = int(input(\"Enter the number of the day (1-7): \"))\n",
    "\n",
    "if day_number < 1 or day_number > 7:\n",
    "    print(\"Invalid day number!\")\n",
    "else:\n",
    "    days_of_week = [\"Monday\", \"Tuesday\", \"Wednesday\", \"Thursday\", \"Friday\", \"Saturday\", \"Sunday\"]\n",
    "    day_name = days_of_week[day_number - 1]\n",
    "    print(\"The name of the day is\", day_name)"
   ]
  },
  {
   "cell_type": "code",
   "execution_count": 28,
   "id": "ed291a6b",
   "metadata": {},
   "outputs": [
    {
     "name": "stdout",
     "output_type": "stream",
     "text": [
      "Enter marks obtained in Physics (out of 100): 2\n",
      "Enter marks obtained in Chemistry (out of 100): 2\n",
      "Enter marks obtained in Biology (out of 100): 2\n",
      "Enter marks obtained in Mathematics (out of 100): 2\n",
      "Enter marks obtained in Computer (out of 100): 2\n",
      "Percentage: 2.0\n",
      "Grade: F\n"
     ]
    }
   ],
   "source": [
    "\n",
    "#  Task 10: Write a program to input marks (out of 100 each) of five subjects Physics, Chemistry,\n",
    "#           Biology, Mathematics and Computer. Calculate percentage and grade of each subject according\n",
    "#           to following:\n",
    "#           Percentage >= 90% : Grade A\n",
    "#           Percentage >= 80% : Grade B\n",
    "#           Percentage >= 70% : Grade C\n",
    "#           Percentage >= 60% : Grade D\n",
    "#           Percentage >= 40% : Grade E\n",
    "#           Percentage < 40% : Grade F\n",
    "\n",
    "\n",
    "physics_marks = float(input(\"Enter marks obtained in Physics (out of 100): \"))\n",
    "chemistry_marks = float(input(\"Enter marks obtained in Chemistry (out of 100): \"))\n",
    "biology_marks = float(input(\"Enter marks obtained in Biology (out of 100): \"))\n",
    "mathematics_marks = float(input(\"Enter marks obtained in Mathematics (out of 100): \"))\n",
    "computer_marks = float(input(\"Enter marks obtained in Computer (out of 100): \"))\n",
    "\n",
    "total_marks = 500  # Total marks for all subjects (100 marks each)\n",
    "obtained_marks = physics_marks + chemistry_marks + biology_marks + mathematics_marks + computer_marks\n",
    "percentage = (obtained_marks / total_marks) * 100\n",
    "\n",
    "print(\"Percentage:\", percentage)\n",
    "\n",
    "if percentage >= 90:\n",
    "    grade = \"A\"\n",
    "elif percentage >= 80:\n",
    "    grade = \"B\"\n",
    "elif percentage >= 70:\n",
    "    grade = \"C\"\n",
    "elif percentage >= 60:\n",
    "    grade = \"D\"\n",
    "elif percentage >= 40:\n",
    "    grade = \"E\"\n",
    "else:\n",
    "    grade = \"F\"\n",
    "\n",
    "print(\"Grade:\", grade)"
   ]
  },
  {
   "cell_type": "code",
   "execution_count": 29,
   "id": "f9da4d60",
   "metadata": {},
   "outputs": [
    {
     "name": "stdout",
     "output_type": "stream",
     "text": [
      "Enter the electricity unit charges: 33\n",
      "Total electricity bill: Rs. 19.8\n"
     ]
    }
   ],
   "source": [
    "#        Write a program to input electricity unit charges and calculate total electricity bill\n",
    "#        according to the given condition:\n",
    "#        For first 50 units Rs. 0.50/unit\n",
    "#        For next 100 units (i.e., 51 to 150) Rs. 0.75/unit\n",
    "#        For next 100 units (i.e., 151 to 250) Rs. 1.20/unit\n",
    "#          For units above 250 Rs. 1.50/unit\n",
    "#         An additional surcharge of 20% is added to the bill\n",
    "\n",
    "\n",
    "unit_charges = float(input(\"Enter the electricity unit charges: \"))\n",
    "\n",
    "if unit_charges <= 50:\n",
    "    bill_amount = unit_charges * 0.50\n",
    "elif unit_charges <= 150:\n",
    "    bill_amount = (50 * 0.50) + ((unit_charges - 50) * 0.75)\n",
    "elif unit_charges <= 250:\n",
    "    bill_amount = (50 * 0.50) + (100 * 0.75) + ((unit_charges - 150) * 1.20)\n",
    "else:\n",
    "    bill_amount = (50 * 0.50) + (100 * 0.75) + (100 * 1.20) + ((unit_charges - 250) * 1.50)\n",
    "\n",
    "total_bill = bill_amount + (bill_amount * 0.20)  # Adding 20% surcharge\n",
    "\n",
    "print(\"Total electricity bill: Rs.\", total_bill)"
   ]
  },
  {
   "cell_type": "code",
   "execution_count": null,
   "id": "d7514ea8",
   "metadata": {},
   "outputs": [],
   "source": []
  }
 ],
 "metadata": {
  "kernelspec": {
   "display_name": "Python 3 (ipykernel)",
   "language": "python",
   "name": "python3"
  },
  "language_info": {
   "codemirror_mode": {
    "name": "ipython",
    "version": 3
   },
   "file_extension": ".py",
   "mimetype": "text/x-python",
   "name": "python",
   "nbconvert_exporter": "python",
   "pygments_lexer": "ipython3",
   "version": "3.10.9"
  }
 },
 "nbformat": 4,
 "nbformat_minor": 5
}
