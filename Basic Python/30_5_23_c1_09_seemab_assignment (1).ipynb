{
 "cells": [
  {
   "cell_type": "code",
   "execution_count": 5,
   "id": "690b014e",
   "metadata": {},
   "outputs": [],
   "source": [
    "#task 1:     Write a function which take numerical list and return number of list even odd prime\n",
    "\n",
    "\n",
    "def count_even_odd_prime(numbers):\n",
    "    even_count = 0\n",
    "    odd_count = 0\n",
    "    prime_count = 0\n",
    "\n",
    "    for num in numbers:\n",
    "        if num % 2 == 0:\n",
    "            even_count += 1\n",
    "        else:\n",
    "            odd_count += 1\n",
    "        if is_prime(num):\n",
    "            prime_count += 1\n",
    "    return even_count, odd_count, prime_count\n",
    "\n",
    "def is_prime(number):\n",
    "    if number < 2:\n",
    "        return False\n",
    "    for i in range(2, int(number ** 0.5) + 1):\n",
    "        if number % i == 0:\n",
    "            return False\n",
    "    return True\n",
    "\n"
   ]
  },
  {
   "cell_type": "code",
   "execution_count": 6,
   "id": "b8398f75",
   "metadata": {},
   "outputs": [
    {
     "name": "stdout",
     "output_type": "stream",
     "text": [
      "Even numbers: 6\n",
      "Odd numbers: 5\n",
      "Prime numbers: 5\n"
     ]
    }
   ],
   "source": [
    "numbers = [2, 3, 4, 5, 6, 7, 8, 9, 10, 11, 12]\n",
    "even, odd, prime = count_even_odd_prime(numbers)\n",
    "print(\"Even numbers:\", even)\n",
    "print(\"Odd numbers:\", odd)\n",
    "print(\"Prime numbers:\", prime)\n"
   ]
  },
  {
   "cell_type": "code",
   "execution_count": null,
   "id": "56548253",
   "metadata": {},
   "outputs": [],
   "source": []
  },
  {
   "cell_type": "code",
   "execution_count": 7,
   "id": "70d49562",
   "metadata": {},
   "outputs": [],
   "source": [
    "#    taske 2:  Write a python function which take this list = [\"Jamal\", \"Hamza\",\"Ali\",\"c\", \"P\"] and return two list one\n",
    "#             for string and other of characters like String_list=[\"Jamal\",\"Hamza\",\"Ali\"] and character_list =[\"c\",\"P\"]\n",
    "\n",
    "\n",
    "def separate_string_and_character(lst):\n",
    "    string_list = []\n",
    "    character_list = []\n",
    "\n",
    "    for item in lst:\n",
    "        if isinstance(item, str):\n",
    "            string_list.append(item)\n",
    "        elif isinstance(item, str) and len(item) == 1:\n",
    "            character_list.append(item)\n",
    "\n",
    "    return string_list, character_list\n",
    "\n"
   ]
  },
  {
   "cell_type": "code",
   "execution_count": 8,
   "id": "32cb8fa8",
   "metadata": {},
   "outputs": [
    {
     "name": "stdout",
     "output_type": "stream",
     "text": [
      "String list: ['Jamal', 'Hamza', 'Ali', 'c', 'P']\n",
      "Character list: []\n"
     ]
    }
   ],
   "source": [
    "my_list = [\"Jamal\", \"Hamza\", \"Ali\", \"c\", \"P\"]\n",
    "strings, characters = separate_string_and_character(my_list)\n",
    "print(\"String list:\", strings)\n",
    "print(\"Character list:\", characters)"
   ]
  },
  {
   "cell_type": "code",
   "execution_count": 9,
   "id": "e1ba25b2",
   "metadata": {},
   "outputs": [],
   "source": [
    "#  task 3\n",
    "#         Write a function which return list each element datatype in new list same at that position of element.\n",
    "#         List1= [5,9,8,6,0,2,2,a,b,c,Jamal] so according to this solution will be this\n",
    "#         Hint:list1_solution=[int,int,int,int,int,int,int,ch,ch,ch,str] \n",
    "\n",
    "\n",
    "def get_datatype_list(lst):\n",
    "    datatype_list = []\n",
    "\n",
    "    for item in lst:\n",
    "        datatype_list.append(type(item).__name__)\n",
    "\n",
    "    return datatype_list\n",
    "\n"
   ]
  },
  {
   "cell_type": "code",
   "execution_count": 21,
   "id": "e6ddca04",
   "metadata": {},
   "outputs": [
    {
     "name": "stdout",
     "output_type": "stream",
     "text": [
      "['int', 'int', 'int', 'int', 'int', 'int', 'int', 'str', 'str', 'str', 'str']\n"
     ]
    }
   ],
   "source": [
    "list1 = [5, 9, 8, 6, 0, 2, 2, 'a', 'b', 'c', 'Jamal']\n",
    "list1_solution = get_datatype_list(list1)\n",
    "print(list1_solution)"
   ]
  },
  {
   "cell_type": "code",
   "execution_count": 19,
   "id": "970945a7",
   "metadata": {},
   "outputs": [],
   "source": [
    "# task 4\n",
    "\n",
    "\n",
    "import math\n",
    "from collections import Counter\n",
    "\n",
    "def analyze_list(lst):\n",
    "    # Most Repeating values\n",
    "    most_repeating = [item for item, count in Counter(lst).items() if count > 1]\n",
    "\n",
    "    # Display nan values\n",
    "    nan_count = lst.count(float('nan'))\n",
    "\n",
    "    # Highest value\n",
    "    highest_value = max(lst)\n",
    "\n",
    "    # Prime numbers\n",
    "    prime_numbers = []\n",
    "    for num in lst:\n",
    "        if isinstance(num, int):\n",
    "            try:\n",
    "                if is_prime(num):\n",
    "                    prime_numbers.append(num)\n",
    "            except ValueError:\n",
    "                pass\n",
    "\n",
    "    return most_repeating, nan_count, highest_value, prime_numbers\n",
    "\n",
    "def is_prime(number):\n",
    "    if not isinstance(number, int) or number < 2:\n",
    "        return False\n",
    "\n",
    "    for i in range(2, int(math.isqrt(number)) + 1):\n",
    "        if number % i == 0:\n",
    "            return False\n",
    "\n",
    "    return True"
   ]
  },
  {
   "cell_type": "code",
   "execution_count": 20,
   "id": "374d0a73",
   "metadata": {},
   "outputs": [
    {
     "name": "stdout",
     "output_type": "stream",
     "text": [
      "Most Repeating values: [6]\n",
      "Occurrences of nan values: 0\n",
      "Highest value: 7\n",
      "Prime numbers: [5, 7]\n"
     ]
    }
   ],
   "source": [
    "my_list = [1, float('nan'), 4, 5, 6, 0, 6, 7]\n",
    "most_repeating, nan_count, highest_value, prime_numbers = analyze_list(my_list)\n",
    "\n",
    "print(\"Most Repeating values:\", most_repeating)\n",
    "print(\"Occurrences of nan values:\", nan_count)\n",
    "print(\"Highest value:\", highest_value)\n",
    "print(\"Prime numbers:\", prime_numbers)"
   ]
  },
  {
   "cell_type": "code",
   "execution_count": 22,
   "id": "b852c7a5",
   "metadata": {},
   "outputs": [],
   "source": [
    "# task 5:\n",
    "\n",
    "def analyze_list(lst):\n",
    "    numbers = [item for item in lst if isinstance(item, (int, float))]\n",
    "    numeric_values = [num for num in lst if isinstance(num, (int, float))]\n",
    "    characters = [char for char in lst if isinstance(char, str) and len(char) == 1]\n",
    "    strings = [string for string in lst if isinstance(string, str) and len(string) > 1]\n",
    "\n",
    "    return numbers, numeric_values, characters, strings\n"
   ]
  },
  {
   "cell_type": "code",
   "execution_count": 23,
   "id": "1227db51",
   "metadata": {},
   "outputs": [
    {
     "name": "stdout",
     "output_type": "stream",
     "text": [
      "Numbers: [8, 10, 99, 6, 53]\n",
      "Numeric values: [8, 10, 99, 6, 53]\n",
      "Characters: ['a', 'b', 's', 'f']\n",
      "Strings: ['fine', 'Education', 'Pass']\n"
     ]
    }
   ],
   "source": [
    "my_list = [8, 10, 'a', 'b', 's', 'f', 99, 'fine', 'Education', 6, 53, 'Pass']\n",
    "numbers, numeric_values, characters, strings = analyze_list(my_list)\n",
    "\n",
    "print(\"Numbers:\", numbers)\n",
    "print(\"Numeric values:\", numeric_values)\n",
    "print(\"Characters:\", characters)\n",
    "print(\"Strings:\", strings)\n"
   ]
  },
  {
   "cell_type": "code",
   "execution_count": null,
   "id": "97f327be",
   "metadata": {},
   "outputs": [],
   "source": []
  }
 ],
 "metadata": {
  "kernelspec": {
   "display_name": "Python 3 (ipykernel)",
   "language": "python",
   "name": "python3"
  },
  "language_info": {
   "codemirror_mode": {
    "name": "ipython",
    "version": 3
   },
   "file_extension": ".py",
   "mimetype": "text/x-python",
   "name": "python",
   "nbconvert_exporter": "python",
   "pygments_lexer": "ipython3",
   "version": "3.10.9"
  }
 },
 "nbformat": 4,
 "nbformat_minor": 5
}
