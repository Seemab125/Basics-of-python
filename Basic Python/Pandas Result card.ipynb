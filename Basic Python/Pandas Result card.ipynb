{
 "cells": [
  {
   "cell_type": "code",
   "execution_count": 1,
   "id": "97ade276",
   "metadata": {},
   "outputs": [
    {
     "name": "stdout",
     "output_type": "stream",
     "text": [
      "Enter marks for Student 1 in Subject 1: 44\n",
      "Enter marks for Student 2 in Subject 1: 55\n",
      "Enter marks for Student 3 in Subject 1: 54\n",
      "Enter marks for Student 4 in Subject 1: 66\n",
      "Enter marks for Student 1 in Subject 2: 88\n",
      "Enter marks for Student 2 in Subject 2: 88\n",
      "Enter marks for Student 3 in Subject 2: 77\n",
      "Enter marks for Student 4 in Subject 2: 66\n",
      "Enter marks for Student 1 in Subject 3: 55\n",
      "Enter marks for Student 2 in Subject 3: 66\n",
      "Enter marks for Student 3 in Subject 3: 66\n",
      "Enter marks for Student 4 in Subject 3: 66\n",
      "Enter marks for Student 1 in Subject 4: 66\n",
      "Enter marks for Student 2 in Subject 4: 66\n",
      "Enter marks for Student 3 in Subject 4: 66\n",
      "Enter marks for Student 4 in Subject 4: 88\n",
      "           Subject 1  Subject 2  Subject 3  Subject 4\n",
      "Student 1         44         88         55         66\n",
      "Student 2         55         88         66         66\n",
      "Student 3         54         77         66         66\n",
      "Student 4         66         66         66         88\n"
     ]
    }
   ],
   "source": [
    "import pandas as pd\n",
    "\n",
    "def create_result_card():\n",
    "    # Initialize an empty dictionary to store the marks for each subject\n",
    "    marks_dict = {}\n",
    "\n",
    "    # Get marks for each subject for all students\n",
    "    for subject in range(1, 5):\n",
    "        subject_marks = []\n",
    "        for student in range(1, 5):\n",
    "            mark = int(input(f\"Enter marks for Student {student} in Subject {subject}: \"))\n",
    "            subject_marks.append(mark)\n",
    "        marks_dict[f\"Subject {subject}\"] = subject_marks\n",
    "\n",
    "    # Create a DataFrame from the marks dictionary\n",
    "    result_card = pd.DataFrame(marks_dict)\n",
    "    result_card.index = [\"Student 1\", \"Student 2\", \"Student 3\", \"Student 4\"]\n",
    "\n",
    "    return result_card\n",
    "\n",
    "# Create the result card\n",
    "result_card = create_result_card()\n",
    "\n",
    "# Print the result card\n",
    "print(result_card)"
   ]
  },
  {
   "cell_type": "code",
   "execution_count": null,
   "id": "0b32d269",
   "metadata": {},
   "outputs": [],
   "source": []
  },
  {
   "cell_type": "code",
   "execution_count": 1,
   "id": "b3d11bc5",
   "metadata": {},
   "outputs": [
    {
     "name": "stdout",
     "output_type": "stream",
     "text": [
      "enter obtained marks:  22\n",
      "enter Total marks:  23\n",
      "Congratulations! you have passed\n"
     ]
    }
   ],
   "source": [
    "#  Task 1:      1.Make a program in which user enter his total marks and obtained marks then display student is pass or\n",
    "#                 fail.\n",
    "\n",
    "\n",
    "obt=float(input(\"enter obtained marks:  \"))\n",
    "Total=float(input(\"enter Total marks:  \"))\n",
    "\n",
    "if obt>=Total/2:\n",
    "    print(\"Congratulations! you have passed\")\n",
    "else:\n",
    "    print(\"Better luck next time! \")"
   ]
  },
  {
   "cell_type": "code",
   "execution_count": 2,
   "id": "c91443a0",
   "metadata": {},
   "outputs": [
    {
     "name": "stdout",
     "output_type": "stream",
     "text": [
      "enter obtained marks:  22\n",
      "enter Total marks:  23\n",
      "D\n"
     ]
    }
   ],
   "source": [
    "#   2. Make a calculator which suggest your grades on the behalf of marks. (Hint 80 :A, 70:B, 60:C, 50:D)\n",
    "obt=float(input(\"enter obtained marks:  \"))\n",
    "Total=float(input(\"enter Total marks:  \"))\n",
    "if obt>=Total/2 and obt<59:\n",
    "    print('D')\n",
    "elif obt>=60 and obt<69:\n",
    "    print('C')\n",
    "elif obt>69 and obt<79:\n",
    "    print('B')\n",
    "elif obt>=80:\n",
    "    print('A')"
   ]
  },
  {
   "cell_type": "code",
   "execution_count": null,
   "id": "18bee87b",
   "metadata": {},
   "outputs": [],
   "source": []
  }
 ],
 "metadata": {
  "kernelspec": {
   "display_name": "Python 3 (ipykernel)",
   "language": "python",
   "name": "python3"
  },
  "language_info": {
   "codemirror_mode": {
    "name": "ipython",
    "version": 3
   },
   "file_extension": ".py",
   "mimetype": "text/x-python",
   "name": "python",
   "nbconvert_exporter": "python",
   "pygments_lexer": "ipython3",
   "version": "3.10.9"
  }
 },
 "nbformat": 4,
 "nbformat_minor": 5
}
