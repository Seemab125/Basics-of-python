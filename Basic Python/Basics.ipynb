{
 "cells": [
  {
   "cell_type": "code",
   "execution_count": 1,
   "id": "2c3e4267",
   "metadata": {},
   "outputs": [
    {
     "name": "stdout",
     "output_type": "stream",
     "text": [
      "Hello world\n"
     ]
    }
   ],
   "source": [
    "print('Hello world')"
   ]
  },
  {
   "cell_type": "code",
   "execution_count": 2,
   "id": "f2044fe2",
   "metadata": {},
   "outputs": [
    {
     "name": "stdout",
     "output_type": "stream",
     "text": [
      "Emter your name: ? seemab\n",
      "Hello seemab\n"
     ]
    }
   ],
   "source": [
    "name=input('Emter your name: ? ')\n",
    "print(\"Hello \"+ name)"
   ]
  },
  {
   "cell_type": "code",
   "execution_count": 3,
   "id": "61293d22",
   "metadata": {},
   "outputs": [
    {
     "name": "stdout",
     "output_type": "stream",
     "text": [
      "Enter old age22\n",
      "new age is:  24\n"
     ]
    }
   ],
   "source": [
    "old=input('Enter old age')\n",
    "new=int(old)+2\n",
    "print('new age is: ', new)"
   ]
  },
  {
   "cell_type": "code",
   "execution_count": 4,
   "id": "b1739e04",
   "metadata": {},
   "outputs": [
    {
     "name": "stdout",
     "output_type": "stream",
     "text": [
      "Enter old age : 2\n",
      "Enter 2nd age : 22\n",
      "sum of both is : 24.0\n"
     ]
    }
   ],
   "source": [
    "old=input('Enter old age : ')\n",
    "new=input('Enter 2nd age : ')\n",
    "sum = float(old) + float(new)\n",
    "print(\"sum of both is : \"+ str(sum))"
   ]
  },
  {
   "cell_type": "code",
   "execution_count": 1,
   "id": "b61b2f63",
   "metadata": {},
   "outputs": [
    {
     "data": {
      "text/plain": [
       "'alialiali'"
      ]
     },
     "execution_count": 1,
     "metadata": {},
     "output_type": "execute_result"
    }
   ],
   "source": [
    "\"ali\"*3"
   ]
  },
  {
   "cell_type": "code",
   "execution_count": 3,
   "id": "f6873b9c",
   "metadata": {},
   "outputs": [
    {
     "data": {
      "text/plain": [
       "'ali3'"
      ]
     },
     "execution_count": 3,
     "metadata": {},
     "output_type": "execute_result"
    }
   ],
   "source": [
    "\"ali\" + str(3)"
   ]
  },
  {
   "cell_type": "code",
   "execution_count": 5,
   "id": "ad9a10ff",
   "metadata": {},
   "outputs": [
    {
     "data": {
      "text/plain": [
       "3"
      ]
     },
     "execution_count": 5,
     "metadata": {},
     "output_type": "execute_result"
    }
   ],
   "source": [
    "len(\"ali\")"
   ]
  },
  {
   "cell_type": "code",
   "execution_count": 7,
   "id": "91918e50",
   "metadata": {},
   "outputs": [
    {
     "name": "stdout",
     "output_type": "stream",
     "text": [
      "h\n"
     ]
    }
   ],
   "source": [
    "# string indexing\n",
    "\n",
    "name= \"ahmed\"\n",
    "print(name[1])"
   ]
  },
  {
   "cell_type": "code",
   "execution_count": 8,
   "id": "831f02ad",
   "metadata": {},
   "outputs": [
    {
     "name": "stdout",
     "output_type": "stream",
     "text": [
      "d\n"
     ]
    }
   ],
   "source": [
    "print(name[-1])"
   ]
  },
  {
   "cell_type": "code",
   "execution_count": 9,
   "id": "7d3386d2",
   "metadata": {},
   "outputs": [
    {
     "name": "stdout",
     "output_type": "stream",
     "text": [
      "hm\n"
     ]
    }
   ],
   "source": [
    "# string slicing\n",
    "\n",
    "print(name[1:3])"
   ]
  },
  {
   "cell_type": "code",
   "execution_count": 10,
   "id": "18df45dc",
   "metadata": {},
   "outputs": [
    {
     "data": {
      "text/plain": [
       "1"
      ]
     },
     "execution_count": 10,
     "metadata": {},
     "output_type": "execute_result"
    }
   ],
   "source": [
    "name.index(\"h\")"
   ]
  },
  {
   "cell_type": "code",
   "execution_count": 14,
   "id": "72f2f967",
   "metadata": {},
   "outputs": [
    {
     "name": "stdout",
     "output_type": "stream",
     "text": [
      "('Reed', ' recieved ', '80', ' on the exam ')\n",
      "('Paige', ' recieved ', '92', ' on the exam ')\n",
      "('Jesse', ' recieved ', '85', ' on the exam ')\n"
     ]
    }
   ],
   "source": [
    "def student_grade(name, grade):\n",
    "\treturn ( name,\" recieved \", str(grade), \" on the exam \".format(name=name , grade=grade))\n",
    "\t\n",
    "print(student_grade(\"Reed\", 80))\n",
    "print(student_grade(\"Paige\", 92))\n",
    "print(student_grade(\"Jesse\", 85))"
   ]
  },
  {
   "cell_type": "code",
   "execution_count": 27,
   "id": "61d37f68",
   "metadata": {},
   "outputs": [
    {
     "name": "stdout",
     "output_type": "stream",
     "text": [
      "(12, 'miles equals ', 19.200000000000003)\n",
      "(5.5, 'miles equals ', 8.8)\n",
      "(11, 'miles equals ', 17.6)\n"
     ]
    }
   ],
   "source": [
    "def convert_distance(miles):\n",
    "    km = miles * 1.6 \n",
    "    result = (miles , \"miles equals \",km )\n",
    "    return result\n",
    "\n",
    "\n",
    "print(convert_distance(12)) # Should be: 12 miles equals 19.2 km\n",
    "print(convert_distance(5.5)) # Should be: 5.5 miles equals 8.8 km\n",
    "print(convert_distance(11)) # Should be: 11 miles equals 17.6 km"
   ]
  },
  {
   "cell_type": "code",
   "execution_count": 30,
   "id": "75bbda7a",
   "metadata": {},
   "outputs": [
    {
     "name": "stdout",
     "output_type": "stream",
     "text": [
      "rain\n"
     ]
    }
   ],
   "source": [
    "Weather=\"rainfall\"\n",
    "print(Weather[:4])"
   ]
  },
  {
   "cell_type": "code",
   "execution_count": 37,
   "id": "cc13327c",
   "metadata": {},
   "outputs": [
    {
     "name": "stdout",
     "output_type": "stream",
     "text": [
      "[7, 14, 21, 28, 35, 42, 49, 56, 63, 70]\n"
     ]
    }
   ],
   "source": [
    "multiples=[]\n",
    "for x in range(1,11):\n",
    "    multiples.append(x*7)\n",
    "print(multiples)"
   ]
  },
  {
   "cell_type": "code",
   "execution_count": 38,
   "id": "2110ba38",
   "metadata": {},
   "outputs": [
    {
     "name": "stdout",
     "output_type": "stream",
     "text": [
      "jpg\n",
      "txt\n",
      "csv\n",
      "py\n"
     ]
    }
   ],
   "source": [
    "file_counts={\"jpg\": 10 , \"txt\":14, \"csv\": 2, \"py\": 23}\n",
    "for extensions in file_counts:\n",
    "    print(extensions)"
   ]
  },
  {
   "cell_type": "code",
   "execution_count": null,
   "id": "b1face44",
   "metadata": {},
   "outputs": [],
   "source": []
  }
 ],
 "metadata": {
  "kernelspec": {
   "display_name": "Python 3 (ipykernel)",
   "language": "python",
   "name": "python3"
  },
  "language_info": {
   "codemirror_mode": {
    "name": "ipython",
    "version": 3
   },
   "file_extension": ".py",
   "mimetype": "text/x-python",
   "name": "python",
   "nbconvert_exporter": "python",
   "pygments_lexer": "ipython3",
   "version": "3.10.9"
  }
 },
 "nbformat": 4,
 "nbformat_minor": 5
}
