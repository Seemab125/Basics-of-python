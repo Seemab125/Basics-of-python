{
 "cells": [
  {
   "cell_type": "code",
   "execution_count": 1,
   "id": "cbc12788",
   "metadata": {},
   "outputs": [
    {
     "name": "stdout",
     "output_type": "stream",
     "text": [
      "0\n",
      "1\n",
      "2\n",
      "3\n",
      "4\n"
     ]
    }
   ],
   "source": [
    "for x in range (5) :\n",
    "    print(x)"
   ]
  },
  {
   "cell_type": "code",
   "execution_count": 5,
   "id": "b8396258",
   "metadata": {},
   "outputs": [
    {
     "name": "stdout",
     "output_type": "stream",
     "text": [
      "hi Ali\n",
      "hi Ahem\n",
      "hi aoo\n",
      "hi Aee\n"
     ]
    }
   ],
   "source": [
    "friends =['Ali', 'Ahem', 'aoo', 'Aee']\n",
    "for friend in friends : \n",
    "    print('hi ' + friend)"
   ]
  },
  {
   "cell_type": "code",
   "execution_count": 8,
   "id": "00b0d0e9",
   "metadata": {},
   "outputs": [
    {
     "name": "stdout",
     "output_type": "stream",
     "text": [
      "Total sum  : 140  - Average 35.0\n"
     ]
    }
   ],
   "source": [
    "values=[20,30,40,50]\n",
    "Sum = 0\n",
    "length = 0\n",
    "for value in values:\n",
    "    Sum+=value\n",
    "    length+=1\n",
    "    \n",
    "print(\"Total sum  :\", str(Sum), \" - Average\", str(Sum/length))\n",
    "    \n"
   ]
  },
  {
   "cell_type": "code",
   "execution_count": 9,
   "id": "8c5259a3",
   "metadata": {},
   "outputs": [
    {
     "name": "stdout",
     "output_type": "stream",
     "text": [
      "362880\n"
     ]
    }
   ],
   "source": [
    "product=1\n",
    "for n in range (1,10):\n",
    "    product=product*n\n",
    "    \n",
    "print(product)"
   ]
  },
  {
   "cell_type": "code",
   "execution_count": 10,
   "id": "0b8a2c0b",
   "metadata": {},
   "outputs": [
    {
     "name": "stdout",
     "output_type": "stream",
     "text": [
      "0 -17.77777777777778\n",
      "10 -12.222222222222221\n",
      "20 -6.666666666666667\n",
      "30 -1.1111111111111112\n",
      "40 4.444444444444445\n",
      "50 10.0\n",
      "60 15.555555555555555\n",
      "70 21.11111111111111\n",
      "80 26.666666666666668\n",
      "90 32.22222222222222\n",
      "100 37.77777777777778\n"
     ]
    }
   ],
   "source": [
    "def to_celcius(x):\n",
    "    return (x-32)*5/9\n",
    "\n",
    "for x in range (0, 101, 10):\n",
    "    print(x, to_celcius(x))"
   ]
  },
  {
   "cell_type": "code",
   "execution_count": 20,
   "id": "262834ce",
   "metadata": {},
   "outputs": [
    {
     "name": "stdout",
     "output_type": "stream",
     "text": [
      "0\n",
      "0\n",
      "[0][0] 1\n",
      "[0][1] 2\n",
      "[0][2] 3\n",
      "[0][3] 4\n",
      "[0][4] 5\n",
      "[0][5] 6\n",
      "[0][6] 1\n",
      "1\n",
      "[1][1] 2\n",
      "[1][2] 3\n",
      "[1][3] 4\n",
      "[1][4] 5\n",
      "[1][5] 6\n",
      "[1][6] 2\n",
      "2\n",
      "[2][2] 3\n",
      "[2][3] 4\n",
      "[2][4] 5\n",
      "[2][5] 6\n",
      "[2][6] 3\n",
      "3\n",
      "[3][3] 4\n",
      "[3][4] 5\n",
      "[3][5] 6\n",
      "[3][6] 4\n",
      "4\n",
      "[4][4] 5\n",
      "[4][5] 6\n",
      "[4][6] 5\n",
      "5\n",
      "[5][5] 6\n",
      "[5][6] 6\n",
      "6\n",
      "[6][6] "
     ]
    }
   ],
   "source": [
    "for left in range (7):\n",
    "    print(left)\n",
    "    for right in range(left,7):\n",
    "        print(right)\n",
    "        print(\"[\" + str(left) + \"]\" + \"[\"+ str(right) + \"]\", end=\" \"  )"
   ]
  },
  {
   "cell_type": "code",
   "execution_count": 22,
   "id": "467b0dcc",
   "metadata": {},
   "outputs": [
    {
     "name": "stdout",
     "output_type": "stream",
     "text": [
      "aliabad  vs   mabad\n",
      "aliabad  vs  kabad\n",
      " mabad  vs  aliabad\n",
      " mabad  vs  aliabad\n",
      " mabad  vs  kabad\n",
      "aliabad  vs   mabad\n",
      "aliabad  vs  kabad\n",
      "kabad  vs  aliabad\n",
      "kabad  vs   mabad\n",
      "kabad  vs  aliabad\n"
     ]
    }
   ],
   "source": [
    "teams = [\"aliabad\", \" mabad\", \"aliabad\", \"kabad\"]\n",
    "for home_teams in teams :\n",
    "    for away_teams in teams :\n",
    "        if home_teams!=away_teams:\n",
    "            print(home_teams ,\" vs \", away_teams)"
   ]
  },
  {
   "cell_type": "code",
   "execution_count": 32,
   "id": "ff14e352",
   "metadata": {},
   "outputs": [
    {
     "name": "stdout",
     "output_type": "stream",
     "text": [
      "12\n",
      "18\n",
      "24\n",
      "30\n",
      "36\n"
     ]
    }
   ],
   "source": [
    "for n in range(6,19,3):\n",
    "    print(n*2)"
   ]
  },
  {
   "cell_type": "code",
   "execution_count": 37,
   "id": "ef1879a5",
   "metadata": {},
   "outputs": [
    {
     "name": "stdout",
     "output_type": "stream",
     "text": [
      "0\n",
      "2\n",
      "4\n",
      "6\n",
      "8\n",
      "10\n",
      "12\n",
      "14\n",
      "16\n",
      "18\n"
     ]
    }
   ],
   "source": [
    "for n in range(18+1):\n",
    "    if n%2==0:\n",
    "        print(n)\n"
   ]
  },
  {
   "cell_type": "code",
   "execution_count": 38,
   "id": "c778c1d9",
   "metadata": {},
   "outputs": [
    {
     "name": "stdout",
     "output_type": "stream",
     "text": [
      "1\n",
      "8\n",
      "27\n",
      "64\n",
      "125\n",
      "216\n",
      "343\n",
      "512\n",
      "729\n"
     ]
    }
   ],
   "source": [
    "for n in range(1,10):\n",
    "  print(n**3)"
   ]
  },
  {
   "cell_type": "code",
   "execution_count": 39,
   "id": "f0d8888c",
   "metadata": {},
   "outputs": [
    {
     "name": "stdout",
     "output_type": "stream",
     "text": [
      "0\n",
      "7\n",
      "14\n",
      "21\n",
      "28\n",
      "35\n",
      "42\n",
      "49\n",
      "56\n",
      "63\n",
      "70\n",
      "77\n",
      "84\n",
      "91\n",
      "98\n"
     ]
    }
   ],
   "source": [
    "for n in range(0, 101, 7):\n",
    "    print(n)"
   ]
  },
  {
   "cell_type": "code",
   "execution_count": 40,
   "id": "35bc0905",
   "metadata": {},
   "outputs": [
    {
     "name": "stdout",
     "output_type": "stream",
     "text": [
      "0\n",
      "7\n",
      "14\n",
      "21\n",
      "28\n",
      "35\n",
      "42\n",
      "49\n",
      "56\n",
      "63\n",
      "70\n",
      "77\n",
      "84\n",
      "91\n",
      "98\n"
     ]
    }
   ],
   "source": [
    "for n in range(0, 101, 7):\n",
    "    print(n)"
   ]
  },
  {
   "cell_type": "code",
   "execution_count": 50,
   "id": "a2166498",
   "metadata": {},
   "outputs": [
    {
     "name": "stdout",
     "output_type": "stream",
     "text": [
      "0\n",
      "2\n",
      "4\n",
      "6\n",
      "8\n",
      "10\n",
      "12\n",
      "14\n",
      "16\n",
      "18\n"
     ]
    }
   ],
   "source": [
    "for n in range(0, 18+1,2):\n",
    "    print(n)"
   ]
  },
  {
   "cell_type": "code",
   "execution_count": 43,
   "id": "e4495a7d",
   "metadata": {},
   "outputs": [
    {
     "name": "stdout",
     "output_type": "stream",
     "text": [
      "0\n",
      "1\n",
      "4\n",
      "9\n",
      "16\n",
      "25\n",
      "36\n",
      "49\n",
      "64\n",
      "81\n",
      "100\n",
      "121\n",
      "144\n",
      "169\n",
      "196\n",
      "225\n",
      "256\n",
      "289\n",
      "324\n"
     ]
    }
   ],
   "source": [
    "for n in range(18+1):\n",
    "    print(n**2)\n",
    "    "
   ]
  },
  {
   "cell_type": "code",
   "execution_count": 46,
   "id": "a109f70b",
   "metadata": {},
   "outputs": [
    {
     "name": "stdout",
     "output_type": "stream",
     "text": [
      "0\n",
      "2\n",
      "4\n",
      "6\n",
      "8\n",
      "10\n",
      "12\n",
      "14\n",
      "16\n",
      "18\n"
     ]
    }
   ],
   "source": [
    "for n in range(19):\n",
    "    if n%2==0:\n",
    "        print(n)\n",
    "    "
   ]
  },
  {
   "cell_type": "code",
   "execution_count": 47,
   "id": "dadc29ba",
   "metadata": {},
   "outputs": [
    {
     "name": "stdout",
     "output_type": "stream",
     "text": [
      "0\n",
      "4\n",
      "8\n",
      "12\n",
      "16\n",
      "20\n",
      "24\n",
      "28\n",
      "32\n",
      "36\n"
     ]
    }
   ],
   "source": [
    "for n in range (0,18+1,2):\n",
    "    print(n*2)"
   ]
  },
  {
   "cell_type": "code",
   "execution_count": 48,
   "id": "eba4b85c",
   "metadata": {},
   "outputs": [
    {
     "name": "stdout",
     "output_type": "stream",
     "text": [
      "36\n",
      "36\n",
      "36\n",
      "36\n",
      "36\n",
      "36\n",
      "36\n",
      "36\n",
      "36\n",
      "36\n"
     ]
    }
   ],
   "source": [
    "for i in range(10):\n",
    "    print(n+n)"
   ]
  },
  {
   "cell_type": "code",
   "execution_count": null,
   "id": "5536f502",
   "metadata": {},
   "outputs": [],
   "source": []
  }
 ],
 "metadata": {
  "kernelspec": {
   "display_name": "Python 3 (ipykernel)",
   "language": "python",
   "name": "python3"
  },
  "language_info": {
   "codemirror_mode": {
    "name": "ipython",
    "version": 3
   },
   "file_extension": ".py",
   "mimetype": "text/x-python",
   "name": "python",
   "nbconvert_exporter": "python",
   "pygments_lexer": "ipython3",
   "version": "3.10.9"
  }
 },
 "nbformat": 4,
 "nbformat_minor": 5
}
