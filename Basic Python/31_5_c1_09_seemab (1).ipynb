{
 "cells": [
  {
   "cell_type": "code",
   "execution_count": null,
   "id": "8a7131fd",
   "metadata": {},
   "outputs": [],
   "source": [
    "#    Task1:        Write a Python program using function to count the number of strings from a given list of\n",
    " #                 strings. The string length is 2 or more and the first and last characters are the same."
   ]
  },
  {
   "cell_type": "code",
   "execution_count": 3,
   "id": "77b4f20f",
   "metadata": {},
   "outputs": [],
   "source": [
    "def count_matching_strings(string_list):\n",
    "    count = 0\n",
    "\n",
    "    for string in string_list:\n",
    "        if len(string) >= 2 and string[0] == string[-1]:\n",
    "            count += 1\n",
    "\n",
    "    return count\n"
   ]
  },
  {
   "cell_type": "code",
   "execution_count": 4,
   "id": "2ab57132",
   "metadata": {},
   "outputs": [
    {
     "name": "stdout",
     "output_type": "stream",
     "text": [
      "Number of matching strings: 2\n"
     ]
    }
   ],
   "source": [
    "\n",
    "strings = ['hello', 'world', 'python', 'wow', 'pop']\n",
    "matching_count = count_matching_strings(strings)\n",
    "print(\"Number of matching strings:\", matching_count)"
   ]
  },
  {
   "cell_type": "code",
   "execution_count": null,
   "id": "2527ea70",
   "metadata": {},
   "outputs": [],
   "source": []
  },
  {
   "cell_type": "code",
   "execution_count": null,
   "id": "1d96e6e9",
   "metadata": {},
   "outputs": [],
   "source": [
    "#   Task 2\n",
    "#        Write a Python program to get a list, sorted in increasing order by the last element in each\n",
    "#        tuple from a given list of non-empty tuples.\n",
    "#        Sample List : [(2, 5), (1, 2), (4, 4), (2, 3), (2, 1)]\n",
    "#        Expected Result : [(2, 1), (1, 2), (2, 3), (4, 4), (2, 5)]"
   ]
  },
  {
   "cell_type": "code",
   "execution_count": 6,
   "id": "ae399f2b",
   "metadata": {},
   "outputs": [
    {
     "name": "stdout",
     "output_type": "stream",
     "text": [
      "Sorted list of tuples: [(2, 1), (1, 2), (2, 3), (4, 4), (2, 5)]\n"
     ]
    }
   ],
   "source": [
    "def sort_tuples_by_last_element(tuple_list):\n",
    "    sorted_list = sorted(tuple_list, key=lambda x: x[-1])\n",
    "    return sorted_list\n",
    "\n",
    "tuples = [(2, 5), (1, 2), (4, 4), (2, 3), (2, 1)]\n",
    "sorted_tuples = sort_tuples_by_last_element(tuples)\n",
    "print(\"Sorted list of tuples:\", sorted_tuples)"
   ]
  },
  {
   "cell_type": "code",
   "execution_count": 7,
   "id": "d6837c2d",
   "metadata": {},
   "outputs": [
    {
     "name": "stdout",
     "output_type": "stream",
     "text": [
      "Result 1: [0, 0.8, 1, 2, 6, 9]\n",
      "Result 2: ['Jamal', 'Adeel', 'Hamza', 'Ali', 'Jawad', 'C', 'Q', 'P']\n",
      "Result 3: ['Adeel', 'Ali', 'C', 'Hamza', 'Jamal', 'Jawad', 'P', 'Q']\n",
      "Result 4: ['C', 'Q', 'P']\n",
      "Result 5: [5, 0, 30, 10, 4.0, 45, 'Jamal', 'Adeel', 'Hamza', 'Ali', 'Jawad', 'C', 'Q', 'P']\n"
     ]
    }
   ],
   "source": [
    "# task 3:\n",
    "\n",
    "elements = [1, 0, 6, 2, 0.8, 9, 'Jamal', 'Adeel', 'Hamza', 'Ali', 'Jawad', 'C', 'Q', 'P']\n",
    "result1 = sorted(filter(lambda x: isinstance(x, (int, float)), elements))\n",
    "\n",
    "result2 = list(filter(lambda x: isinstance(x, str) and x[0].isupper(), elements))\n",
    "\n",
    "result3 = sorted(filter(lambda x: isinstance(x, str) and x[0].isupper(), elements))\n",
    "\n",
    "result4 = list(filter(lambda x: isinstance(x, str) and len(x) == 1, elements))\n",
    "\n",
    "result5 = list(map(lambda x: x * 5 if isinstance(x, (int, float)) else x, elements))\n",
    "\n",
    "print(\"Result 1:\", result1)\n",
    "print(\"Result 2:\", result2)\n",
    "print(\"Result 3:\", result3)\n",
    "print(\"Result 4:\", result4)\n",
    "print(\"Result 5:\", result5)"
   ]
  },
  {
   "cell_type": "code",
   "execution_count": null,
   "id": "2f8ae0a2",
   "metadata": {},
   "outputs": [],
   "source": [
    "# task 4"
   ]
  },
  {
   "cell_type": "code",
   "execution_count": 8,
   "id": "7a85e0c4",
   "metadata": {},
   "outputs": [
    {
     "name": "stdout",
     "output_type": "stream",
     "text": [
      "Result file not found!\n",
      "Question 1 result saved successfully!\n",
      "Question 2 result saved successfully!\n",
      "Question 3 result saved successfully!\n",
      "Question 4 result saved successfully!\n",
      "Question 5 result saved successfully!\n"
     ]
    }
   ],
   "source": [
    "def read():\n",
    "    try:\n",
    "        # Read the contents of Result.txt\n",
    "        with open('Result.txt', 'r') as file:\n",
    "            contents = file.read()\n",
    "            print(\"Result of previous questions:\\n\" + contents)\n",
    "    except FileNotFoundError:\n",
    "        print(\"Result file not found!\")\n",
    "\n",
    "def write():\n",
    "    # Result 1: Sorting numbers in ascending order\n",
    "    result1 = sorted(filter(lambda x: isinstance(x, (int, float)), elements))\n",
    "    save_result(1, result1)\n",
    "\n",
    "    # Result 2: Filtering strings starting with an uppercase letter\n",
    "    result2 = list(filter(lambda x: isinstance(x, str) and x[0].isupper(), elements))\n",
    "    save_result(2, result2)\n",
    "\n",
    "    # Result 3: Sorting strings starting with an uppercase letter in ascending order\n",
    "    result3 = sorted(filter(lambda x: isinstance(x, str) and x[0].isupper(), elements))\n",
    "    save_result(3, result3)\n",
    "\n",
    "    # Result 4: Filtering strings consisting of a single character\n",
    "    result4 = list(filter(lambda x: isinstance(x, str) and len(x) == 1, elements))\n",
    "    save_result(4, result4)\n",
    "\n",
    "    # Result 5: Multiplying each number of the list by 5\n",
    "    result5 = list(map(lambda x: x * 5 if isinstance(x, (int, float)) else x, elements))\n",
    "    save_result(5, result5)\n",
    "\n",
    "def save_result(question_number, result):\n",
    "    try:\n",
    "        # Save the result to a file\n",
    "        with open(f'Question{question_number}.txt', 'w') as file:\n",
    "            file.write(str(result))\n",
    "        print(f\"Question {question_number} result saved successfully!\")\n",
    "    except Exception as e:\n",
    "        print(f\"Error occurred while saving question {question_number} result: {e}\")\n",
    "\n",
    "# Main code\n",
    "elements = [1, 0, 6, 2, 0.8, 9, 'Jamal', 'Adeel', 'Hamza', 'Ali', 'Jawad', 'C', 'Q', 'P']\n",
    "\n",
    "# Call read() to display the result of previous questions\n",
    "read()\n",
    "\n",
    "# Call write() to save the results of all questions\n",
    "write()"
   ]
  },
  {
   "cell_type": "code",
   "execution_count": null,
   "id": "20a539ff",
   "metadata": {},
   "outputs": [],
   "source": []
  }
 ],
 "metadata": {
  "kernelspec": {
   "display_name": "Python 3 (ipykernel)",
   "language": "python",
   "name": "python3"
  },
  "language_info": {
   "codemirror_mode": {
    "name": "ipython",
    "version": 3
   },
   "file_extension": ".py",
   "mimetype": "text/x-python",
   "name": "python",
   "nbconvert_exporter": "python",
   "pygments_lexer": "ipython3",
   "version": "3.10.9"
  }
 },
 "nbformat": 4,
 "nbformat_minor": 5
}
